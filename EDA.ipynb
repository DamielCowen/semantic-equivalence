{
 "cells": [
  {
   "cell_type": "code",
   "execution_count": 1,
   "metadata": {},
   "outputs": [],
   "source": [
    "import pipeline\n",
    "import pandas as pd\n",
    "import numpy as np\n",
    "\n",
    "from sklearn.model_selection import train_test_split\n",
    "from sklearn.feature_extraction.text import CountVectorizer\n",
    "from sklearn.feature_extraction.text import TfidfTransformer\n",
    "\n",
    "\n",
    "import matplotlib.pyplot as plt\n",
    "%matplotlib inline\n",
    "plt.style.use('fivethirtyeight')"
   ]
  },
  {
   "cell_type": "code",
   "execution_count": 2,
   "metadata": {},
   "outputs": [],
   "source": [
    "df = pd.read_csv('data/quora_duplicate_questions.tsv', sep ='\\t')\n",
    "#duplicates = df.loc[df['is_duplicate'] == 1]\n",
    "#different = df.loc[df['is_duplicate'] == 0]\n",
    "\n",
    "df = df.loc[:10000]\n",
    "#duplicates.loc[:5000]\n",
    "#different.loc[:10000]\n",
    "\n",
    "X = df[['question1','question2']].dropna()\n",
    "y = df['is_duplicate']\n",
    "\n",
    "fittingtext = X['question1'] +' '+X['question2']\n"
   ]
  },
  {
   "cell_type": "code",
   "execution_count": 3,
   "metadata": {},
   "outputs": [],
   "source": [
    "def return_top_n(dataFrame, n):\n",
    "    X = dataFrame[['question1','question2']].dropna()\n",
    "    y = dataFrame['is_duplicate']\n",
    "    fittingtext = X['question1'] +' '+X['question2']\n",
    "    count = CountVectorizer(ngram_range=(1,2), stop_words = 'english')\n",
    "    FT_count = count.fit_transform(fittingtext)\n",
    "    terms = count.get_feature_names()\n",
    "    termcount = FT_count.toarray().sum(axis = 0)\n",
    "    return pd.DataFrame({'terms' :terms, 'count':termcount}).sort_values(by='count', ascending = False).head(20)\n",
    "\n",
    "    "
   ]
  },
  {
   "cell_type": "code",
   "execution_count": 12,
   "metadata": {},
   "outputs": [
    {
     "data": {
      "image/png": "[encoded data removed]",
      "text/plain": [
       "<Figure size 576x576 with 1 Axes>"
      ]
     },
     "metadata": {
      "needs_background": "light"
     },
     "output_type": "display_data"
    }
   ],
   "source": [
    "top20 = return_top_n(df,20)\n",
    "\n",
    "fig,ax = plt.subplots(figsize=(8,8))\n",
    "\n",
    "ax.bar(top20['terms'], top20['count'])\n",
    "ax.get_yaxis().set_visible(False)\n",
    "plt.xticks(rotation=90, fontsize =16)\n",
    "#fig.xticks(fontsize =16)\n",
    "plt.title('Word Count - Top 20 Words', fontsize=16)\n",
    "plt.grid(False)\n",
    "\n",
    "plt.savefig('SRC/wordcount.png', transparent=True)  "
   ]
  },
  {
   "cell_type": "code",
   "execution_count": null,
   "metadata": {},
   "outputs": [],
   "source": [
    "top20 = return_top_n(duplicates,20)\n",
    "\n",
    "fig,ax = plt.subplots(figsize=(8,8))\n",
    "\n",
    "ax.bar(top20['terms'], top20['count'])\n",
    "plt.xticks(rotation=90)\n",
    "fig.suptitle('Word Count - Duplicates -  Top 20 Words', fontsize=16)\n",
    "\n",
    "plt.savefig('SRC/wordcount_dup.png')  "
   ]
  },
  {
   "cell_type": "code",
   "execution_count": null,
   "metadata": {},
   "outputs": [],
   "source": [
    "top20 = return_top_n(different,20)\n",
    "\n",
    "fig,ax = plt.subplots(figsize=(8,8))\n",
    "\n",
    "ax.bar(top20['terms'], top20['count'])\n",
    "plt.xticks(rotation=90)\n",
    "fig.suptitle('Word Count - Not Duplicates - Top 20 Words', fontsize=16)\n",
    "\n",
    "plt.savefig('SRC/wordcount_diff.png')  "
   ]
  }
 ],
 "metadata": {
  "kernelspec": {
   "display_name": "Python 3",
   "language": "python",
   "name": "python3"
  },
  "language_info": {
   "codemirror_mode": {
    "name": "ipython",
    "version": 3
   },
   "file_extension": ".py",
   "mimetype": "text/x-python",
   "name": "python",
   "nbconvert_exporter": "python",
   "pygments_lexer": "ipython3",
   "version": "3.7.4"
  }
 },
 "nbformat": 4,
 "nbformat_minor": 2
}
