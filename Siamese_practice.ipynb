{
 "cells": [
  {
   "cell_type": "code",
   "execution_count": 1,
   "metadata": {},
   "outputs": [
    {
     "name": "stdout",
     "output_type": "stream",
     "text": [
      "/Users/danielcohen/Documents/capstone_2\r\n"
     ]
    }
   ],
   "source": [
    "!pwd"
   ]
  },
  {
   "cell_type": "code",
   "execution_count": 2,
   "metadata": {},
   "outputs": [],
   "source": [
    "%load_ext autoreload\n",
    "\n",
    "%autoreload 2"
   ]
  },
  {
   "cell_type": "code",
   "execution_count": 3,
   "metadata": {},
   "outputs": [
    {
     "name": "stderr",
     "output_type": "stream",
     "text": [
      "Using TensorFlow backend.\n"
     ]
    }
   ],
   "source": [
    "import tensorflow as tf\n",
    "keras = tf.keras\n",
    "from keras.preprocessing.text import Tokenizer\n",
    "\n",
    "\n",
    "\n",
    "from scipy import stats\n",
    "import numpy as np\n",
    "import pandas as pd\n",
    "import matplotlib.pyplot as plt\n",
    "\n",
    "from keras.preprocessing.text import one_hot, Tokenizer\n",
    "from keras.models import Sequential\n",
    "from keras.preprocessing.sequence import pad_sequences\n",
    "from keras.layers import Embedding, Flatten, Dense\n",
    "\n",
    "from sklearn.model_selection import train_test_split\n",
    "\n",
    "from pipeline import vector_comparison\n",
    "\n",
    "import seaborn as sns\n",
    "\n",
    "%matplotlib inline"
   ]
  },
  {
   "cell_type": "code",
   "execution_count": 4,
   "metadata": {},
   "outputs": [],
   "source": [
    "from pipeline import vector_comparison"
   ]
  },
  {
   "cell_type": "code",
   "execution_count": 5,
   "metadata": {},
   "outputs": [],
   "source": [
    "df = pd.read_csv('data/training.csv', index_col = 0)\n",
    "#df = df.iloc[:1000] #need to limit rows while running on local machine."
   ]
  },
  {
   "cell_type": "code",
   "execution_count": 6,
   "metadata": {},
   "outputs": [],
   "source": [
    "token = Tokenizer()\n",
    "model = vector_comparison(df)\n",
    "X_train, X_test = model.split_data(['question1','question2'], 'is_duplicate') # ran to get self.fitting_text\n",
    "\n",
    "y_train = model.y_train\n",
    "\n",
    "token.fit_on_texts(model.fitting_text)\n",
    "seq1 = token.texts_to_sequences(X_train['question1'].values)\n",
    "seq2 = token.texts_to_sequences(X_train['question2'].values)\n",
    "\n",
    "\n",
    "#vsalidation data\n",
    "\n",
    "y_val = model.y_test\n",
    "\n",
    "token.fit_on_texts(model.fitting_text)\n",
    "seq1_val = token.texts_to_sequences(X_test['question1'].values)\n",
    "seq2_val = token.texts_to_sequences(X_test['question2'].values)\n"
   ]
  },
  {
   "cell_type": "code",
   "execution_count": 7,
   "metadata": {},
   "outputs": [],
   "source": [
    "vocab_size = len(token.index_word) + 1"
   ]
  },
  {
   "cell_type": "code",
   "execution_count": 8,
   "metadata": {},
   "outputs": [
    {
     "data": {
      "image/png": "[encoded data removed]",
      "text/plain": [
       "<Figure size 432x288 with 1 Axes>"
      ]
     },
     "metadata": {
      "needs_background": "light"
     },
     "output_type": "display_data"
    }
   ],
   "source": [
    "\n",
    "#average querstion lenght to set max_len\n",
    "def seq_dist(seq1, seq2):\n",
    "    temp1, temp2 = [], []\n",
    "    for i in seq1:\n",
    "        temp1.append(len(i))\n",
    "    for i in seq2:\n",
    "        temp2.append(len(i))\n",
    "    sns.distplot(temp1)\n",
    "    sns.distplot(temp2)\n",
    "    return np.mean(temp1), np.mean(temp1)\n",
    "\n",
    "seq_dist(seq1, seq2)\n",
    "\n",
    "max_len = 30"
   ]
  },
  {
   "cell_type": "code",
   "execution_count": 9,
   "metadata": {},
   "outputs": [],
   "source": [
    "from keras.preprocessing.sequence import pad_sequences\n",
    "\n",
    "seq1_pad = pad_sequences(seq1, maxlen = max_len, padding ='pre')\n",
    "seq2_pad = pad_sequences(seq2, maxlen = max_len, padding ='pre')\n",
    "\n",
    "seq1_pad_val =pad_sequences(seq1_val, maxlen = max_len, padding ='pre')\n",
    "seq2_pad_val =pad_sequences(seq2_val, maxlen = max_len, padding ='pre')"
   ]
  },
  {
   "cell_type": "code",
   "execution_count": null,
   "metadata": {},
   "outputs": [],
   "source": []
  },
  {
   "cell_type": "code",
   "execution_count": 58,
   "metadata": {},
   "outputs": [],
   "source": [
    "from keras.layers import Input, LSTM, Flatten, Dense, Concatenate, Multiply, Dropout, Subtract, Add, Embedding, Activation, GRU\n",
    "from keras.layers.core import Lambda \n",
    "\n",
    "input_1 = Input(shape=(seq1_pad.shape[1],))\n",
    "input_2 = Input(shape=(seq2_pad.shape[1],))\n",
    "\n",
    "from sklearn.metrics import roc_auc_score as auroc\n",
    "\n",
    "from keras.models import Model\n",
    "from keras import backend as K\n",
    "from keras.optimizers import Adam, RMSprop\n",
    "\n",
    "def cosine_distance(vests):\n",
    "    x, y = vests\n",
    "    x = K.l2_normalize(x, axis=-1)\n",
    "    y = K.l2_normalize(y, axis=-1)\n",
    "    return -K.mean(x * y, axis=-1, keepdims=True)\n",
    "\n",
    "def cos_dist_output_shape(shapes):\n",
    "    shape1, shape2 = shapes\n",
    "    return (shape1[0],1)"
   ]
  },
  {
   "cell_type": "code",
   "execution_count": 110,
   "metadata": {},
   "outputs": [
    {
     "name": "stdout",
     "output_type": "stream",
     "text": [
      "Loaded 400000 word vectors.\n"
     ]
    }
   ],
   "source": [
    "# load the whole embedding into memory\n",
    "embeddings_index = dict()\n",
    "f = open('src/glove.6B/glove.6B.300d.txt')\n",
    "for line in f:\n",
    "    values = line.split()\n",
    "    word = values[0]\n",
    "    coefs = np.asarray(values[1:], dtype='float32')\n",
    "    embeddings_index[word] = coefs\n",
    "f.close()\n",
    "\n",
    "embeded_dim = len(embeddings_index['the'])\n",
    "print('Loaded %s word vectors.' % len(embeddings_index))\n",
    "\n",
    "weight_shape = embeddings_index['the'].shape[0]"
   ]
  },
  {
   "cell_type": "code",
   "execution_count": 111,
   "metadata": {},
   "outputs": [
    {
     "data": {
      "text/plain": [
       "300"
      ]
     },
     "execution_count": 111,
     "metadata": {},
     "output_type": "execute_result"
    }
   ],
   "source": [
    "weight_shape"
   ]
  },
  {
   "cell_type": "code",
   "execution_count": 13,
   "metadata": {},
   "outputs": [],
   "source": [
    "# create a weight matrix for words in training docs\n",
    "embedding_matrix = np.zeros((vocab_size, embeded_dim))\n",
    "for word, i in token.word_index.items():\n",
    "    embedding_vector = embeddings_index.get(word)\n",
    "    if embedding_vector is not None:\n",
    "        embedding_matrix[i] = embedding_vector"
   ]
  },
  {
   "cell_type": "markdown",
   "metadata": {},
   "source": [
    "model = Sequential()\n",
    "e = Embedding(vocab_size, weight_shape, weights=[embedding_matrix], input_length=max_len, trainable=False)"
   ]
  },
  {
   "cell_type": "markdown",
   "metadata": {},
   "source": [
    "common_lstm_1 = LSTM(32,return_sequences=True, activation=\"relu\")\n",
    "common_lstm_2 = LSTM(32,return_sequences=True, activation=\"relu\")"
   ]
  },
  {
   "cell_type": "code",
   "execution_count": null,
   "metadata": {},
   "outputs": [],
   "source": [
    "lstm_1 = e(input_1)\n",
    "lstm_2 = e(input_2)\n",
    "\n",
    "#seq1 path\n",
    "vector_1 = common_lstm_1(lstm_1)\n",
    "vector_1 = common_lstm_2(vector_1)\n",
    "vector_1 = Flatten()(vector_1)\n",
    "\n",
    "#seq2 path\n",
    "vector_2 = common_lstm_1(lstm_2)\n",
    "vector_2 = common_lstm_2(vector_2)\n",
    "vector_2 = Flatten()(vector_2)\n",
    "\n",
    "\n",
    "x3 = Subtract()([vector_1, vector_2])\n",
    "x3 = Multiply()([x3, x3])\n",
    "\n",
    "x1_ = Multiply()([vector_1, vector_1])\n",
    "x2_ = Multiply()([vector_2, vector_2])\n",
    "x4 = Subtract()([x1_, x2_])\n",
    "\n",
    "\n",
    "\n",
    "cosine_sim = Lambda(cosine_distance, output_shape=cos_dist_output_shape)([vector_1, vector_2])\n",
    "\n",
    "conc = Concatenate(axis=-1)([cosine_sim,x4, x3])\n",
    "\n",
    "\n",
    "x = Dense(100, activation=\"relu\", name='conc_layer')(conc)\n",
    "x = Dropout(0.01)(x)\n",
    "out = Dense(1, activation=\"sigmoid\", name = 'out')(x)\n",
    "\n",
    "model = Model([input_1, input_2], out)\n",
    "\n",
    "model.compile(loss=\"binary_crossentropy\", metrics=['acc'], optimizer=Adam(0.0001))"
   ]
  },
  {
   "cell_type": "code",
   "execution_count": 17,
   "metadata": {},
   "outputs": [
    {
     "name": "stdout",
     "output_type": "stream",
     "text": [
      "Model: \"model_1\"\n",
      "__________________________________________________________________________________________________\n",
      "Layer (type)                    Output Shape         Param #     Connected to                     \n",
      "==================================================================================================\n",
      "input_1 (InputLayer)            (None, 30)           0                                            \n",
      "__________________________________________________________________________________________________\n",
      "input_2 (InputLayer)            (None, 30)           0                                            \n",
      "__________________________________________________________________________________________________\n",
      "embedding_1 (Embedding)         (None, 30, 100)      7523400     input_1[0][0]                    \n",
      "                                                                 input_2[0][0]                    \n",
      "__________________________________________________________________________________________________\n",
      "lstm_1 (LSTM)                   (None, 30, 32)       17024       embedding_1[0][0]                \n",
      "                                                                 embedding_1[1][0]                \n",
      "__________________________________________________________________________________________________\n",
      "lstm_2 (LSTM)                   (None, 30, 32)       8320        lstm_1[0][0]                     \n",
      "                                                                 lstm_1[1][0]                     \n",
      "__________________________________________________________________________________________________\n",
      "flatten_1 (Flatten)             (None, 960)          0           lstm_2[0][0]                     \n",
      "__________________________________________________________________________________________________\n",
      "flatten_2 (Flatten)             (None, 960)          0           lstm_2[1][0]                     \n",
      "__________________________________________________________________________________________________\n",
      "multiply_2 (Multiply)           (None, 960)          0           flatten_1[0][0]                  \n",
      "                                                                 flatten_1[0][0]                  \n",
      "__________________________________________________________________________________________________\n",
      "multiply_3 (Multiply)           (None, 960)          0           flatten_2[0][0]                  \n",
      "                                                                 flatten_2[0][0]                  \n",
      "__________________________________________________________________________________________________\n",
      "subtract_1 (Subtract)           (None, 960)          0           flatten_1[0][0]                  \n",
      "                                                                 flatten_2[0][0]                  \n",
      "__________________________________________________________________________________________________\n",
      "lambda_1 (Lambda)               (None, 1)            0           flatten_1[0][0]                  \n",
      "                                                                 flatten_2[0][0]                  \n",
      "__________________________________________________________________________________________________\n",
      "subtract_2 (Subtract)           (None, 960)          0           multiply_2[0][0]                 \n",
      "                                                                 multiply_3[0][0]                 \n",
      "__________________________________________________________________________________________________\n",
      "multiply_1 (Multiply)           (None, 960)          0           subtract_1[0][0]                 \n",
      "                                                                 subtract_1[0][0]                 \n",
      "__________________________________________________________________________________________________\n",
      "concatenate_1 (Concatenate)     (None, 1921)         0           lambda_1[0][0]                   \n",
      "                                                                 subtract_2[0][0]                 \n",
      "                                                                 multiply_1[0][0]                 \n",
      "__________________________________________________________________________________________________\n",
      "conc_layer (Dense)              (None, 100)          192200      concatenate_1[0][0]              \n",
      "__________________________________________________________________________________________________\n",
      "dropout_1 (Dropout)             (None, 100)          0           conc_layer[0][0]                 \n",
      "__________________________________________________________________________________________________\n",
      "out (Dense)                     (None, 1)            101         dropout_1[0][0]                  \n",
      "==================================================================================================\n",
      "Total params: 7,741,045\n",
      "Trainable params: 217,645\n",
      "Non-trainable params: 7,523,400\n",
      "__________________________________________________________________________________________________\n"
     ]
    }
   ],
   "source": [
    "model.summary()\n"
   ]
  },
  {
   "cell_type": "code",
   "execution_count": 48,
   "metadata": {},
   "outputs": [
    {
     "name": "stdout",
     "output_type": "stream",
     "text": [
      "Train on 242608 samples, validate on 80870 samples\n",
      "Epoch 1/50\n",
      "242608/242608 [==============================] - 69s 285us/step - loss: 0.3796 - acc: 0.8162 - val_loss: 0.4919 - val_acc: 0.7678\n",
      "Epoch 2/50\n",
      "242608/242608 [==============================] - 69s 284us/step - loss: 0.3787 - acc: 0.8177 - val_loss: 0.4932 - val_acc: 0.7691\n",
      "Epoch 3/50\n",
      "242608/242608 [==============================] - 68s 281us/step - loss: 0.3772 - acc: 0.8180 - val_loss: 0.4912 - val_acc: 0.7686\n",
      "Epoch 4/50\n",
      "242608/242608 [==============================] - 68s 280us/step - loss: 0.3770 - acc: 0.8182 - val_loss: 0.4902 - val_acc: 0.7684\n",
      "Epoch 5/50\n",
      "242608/242608 [==============================] - 68s 282us/step - loss: 0.3761 - acc: 0.8187 - val_loss: 0.4938 - val_acc: 0.7686\n",
      "Epoch 6/50\n",
      "242608/242608 [==============================] - 68s 282us/step - loss: 0.3754 - acc: 0.8190 - val_loss: 0.4916 - val_acc: 0.7693\n",
      "Epoch 7/50\n",
      "242608/242608 [==============================] - 68s 281us/step - loss: 0.3745 - acc: 0.8192 - val_loss: 0.4940 - val_acc: 0.7679\n",
      "Epoch 8/50\n",
      "242608/242608 [==============================] - 69s 283us/step - loss: 0.3736 - acc: 0.8205 - val_loss: 0.4928 - val_acc: 0.7683\n",
      "Epoch 9/50\n",
      "242608/242608 [==============================] - 68s 282us/step - loss: 0.3727 - acc: 0.8210 - val_loss: 0.4920 - val_acc: 0.7684\n",
      "Epoch 10/50\n",
      "242608/242608 [==============================] - 68s 279us/step - loss: 0.3721 - acc: 0.8216 - val_loss: 0.4973 - val_acc: 0.7693\n",
      "Epoch 11/50\n",
      "242608/242608 [==============================] - 1047s 4ms/step - loss: 0.3716 - acc: 0.8212 - val_loss: 0.4963 - val_acc: 0.7689\n",
      "Epoch 12/50\n",
      "242608/242608 [==============================] - 68s 279us/step - loss: 0.3706 - acc: 0.8221 - val_loss: 0.4955 - val_acc: 0.7686\n",
      "Epoch 13/50\n",
      "242608/242608 [==============================] - 68s 280us/step - loss: 0.3701 - acc: 0.8218 - val_loss: 0.4946 - val_acc: 0.7675\n",
      "Epoch 14/50\n",
      "242608/242608 [==============================] - 73s 300us/step - loss: 0.3693 - acc: 0.8230 - val_loss: 0.4969 - val_acc: 0.7678\n",
      "Epoch 15/50\n",
      "242608/242608 [==============================] - 69s 284us/step - loss: 0.3683 - acc: 0.8228 - val_loss: 0.4971 - val_acc: 0.7685\n",
      "Epoch 16/50\n",
      "242608/242608 [==============================] - 68s 280us/step - loss: 0.3676 - acc: 0.8237 - val_loss: 0.4985 - val_acc: 0.7679\n",
      "Epoch 17/50\n",
      "242608/242608 [==============================] - 67s 277us/step - loss: 0.3669 - acc: 0.8237 - val_loss: 0.5000 - val_acc: 0.7679\n",
      "Epoch 18/50\n",
      "242608/242608 [==============================] - 70s 287us/step - loss: 0.3658 - acc: 0.8240 - val_loss: 0.4996 - val_acc: 0.7689\n",
      "Epoch 19/50\n",
      "242608/242608 [==============================] - 75s 311us/step - loss: 0.3647 - acc: 0.8259 - val_loss: 0.4980 - val_acc: 0.7687\n",
      "Epoch 20/50\n",
      "242608/242608 [==============================] - 75s 310us/step - loss: 0.3644 - acc: 0.8255 - val_loss: 0.4992 - val_acc: 0.7680\n",
      "Epoch 21/50\n",
      "242608/242608 [==============================] - 71s 291us/step - loss: 0.3639 - acc: 0.8256 - val_loss: 0.5026 - val_acc: 0.7686\n",
      "Epoch 22/50\n",
      "242608/242608 [==============================] - 77s 319us/step - loss: 0.3630 - acc: 0.8260 - val_loss: 0.5023 - val_acc: 0.7696\n",
      "Epoch 23/50\n",
      "242608/242608 [==============================] - 71s 292us/step - loss: 0.3620 - acc: 0.8265 - val_loss: 0.5023 - val_acc: 0.7694\n",
      "Epoch 24/50\n",
      "242608/242608 [==============================] - 71s 294us/step - loss: 0.3620 - acc: 0.8270 - val_loss: 0.5024 - val_acc: 0.7682\n",
      "Epoch 25/50\n",
      "242608/242608 [==============================] - 70s 289us/step - loss: 0.3609 - acc: 0.8276 - val_loss: 0.5023 - val_acc: 0.7697\n",
      "Epoch 26/50\n",
      "242608/242608 [==============================] - 71s 291us/step - loss: 0.3605 - acc: 0.8277 - val_loss: 0.5094 - val_acc: 0.7688\n",
      "Epoch 27/50\n",
      "242608/242608 [==============================] - 67s 278us/step - loss: 0.3599 - acc: 0.8284 - val_loss: 0.5050 - val_acc: 0.7681\n",
      "Epoch 28/50\n",
      "242608/242608 [==============================] - 68s 282us/step - loss: 0.3587 - acc: 0.8290 - val_loss: 0.5048 - val_acc: 0.7689\n",
      "Epoch 29/50\n",
      "242608/242608 [==============================] - 67s 277us/step - loss: 0.3583 - acc: 0.8291 - val_loss: 0.5079 - val_acc: 0.7696\n",
      "Epoch 30/50\n",
      "242608/242608 [==============================] - 69s 286us/step - loss: 0.3576 - acc: 0.8291 - val_loss: 0.5057 - val_acc: 0.7685\n",
      "Epoch 31/50\n",
      "242608/242608 [==============================] - 70s 287us/step - loss: 0.3569 - acc: 0.8294 - val_loss: 0.5052 - val_acc: 0.7689\n",
      "Epoch 32/50\n",
      "242608/242608 [==============================] - 67s 278us/step - loss: 0.3559 - acc: 0.8306 - val_loss: 0.5071 - val_acc: 0.7685\n",
      "Epoch 33/50\n",
      "242608/242608 [==============================] - 68s 278us/step - loss: 0.3551 - acc: 0.8301 - val_loss: 0.5078 - val_acc: 0.7675\n",
      "Epoch 34/50\n",
      "242608/242608 [==============================] - 67s 278us/step - loss: 0.3546 - acc: 0.8310 - val_loss: 0.5097 - val_acc: 0.7691\n",
      "Epoch 35/50\n",
      "242608/242608 [==============================] - 67s 277us/step - loss: 0.3544 - acc: 0.8313 - val_loss: 0.5071 - val_acc: 0.7665\n",
      "Epoch 36/50\n",
      "242608/242608 [==============================] - 67s 277us/step - loss: 0.3533 - acc: 0.8318 - val_loss: 0.5113 - val_acc: 0.7691\n",
      "Epoch 37/50\n",
      "242608/242608 [==============================] - 67s 277us/step - loss: 0.3528 - acc: 0.8324 - val_loss: 0.5104 - val_acc: 0.7679\n",
      "Epoch 38/50\n",
      "242608/242608 [==============================] - 68s 281us/step - loss: 0.3524 - acc: 0.8324 - val_loss: 0.5077 - val_acc: 0.7678\n",
      "Epoch 39/50\n",
      "242608/242608 [==============================] - 71s 293us/step - loss: 0.3513 - acc: 0.8331 - val_loss: 0.5101 - val_acc: 0.7667\n",
      "Epoch 40/50\n",
      "242608/242608 [==============================] - 69s 285us/step - loss: 0.3510 - acc: 0.8332 - val_loss: 0.5127 - val_acc: 0.7684\n",
      "Epoch 41/50\n",
      "242608/242608 [==============================] - 69s 284us/step - loss: 0.3501 - acc: 0.8333 - val_loss: 0.5115 - val_acc: 0.7687\n",
      "Epoch 42/50\n",
      "242608/242608 [==============================] - 70s 289us/step - loss: 0.3494 - acc: 0.8333 - val_loss: 0.5129 - val_acc: 0.7685\n",
      "Epoch 43/50\n",
      "242608/242608 [==============================] - 69s 283us/step - loss: 0.3486 - acc: 0.8343 - val_loss: 0.5115 - val_acc: 0.7683\n",
      "Epoch 44/50\n",
      "242608/242608 [==============================] - 67s 276us/step - loss: 0.3483 - acc: 0.8344 - val_loss: 0.5115 - val_acc: 0.7684\n",
      "Epoch 45/50\n",
      "242608/242608 [==============================] - 70s 290us/step - loss: 0.3478 - acc: 0.8346 - val_loss: 0.5148 - val_acc: 0.7695\n",
      "Epoch 46/50\n",
      "242608/242608 [==============================] - 72s 295us/step - loss: 0.3469 - acc: 0.8355 - val_loss: 0.5152 - val_acc: 0.7682\n",
      "Epoch 47/50\n",
      "242608/242608 [==============================] - 71s 293us/step - loss: 0.3461 - acc: 0.8350 - val_loss: 0.5145 - val_acc: 0.7690\n",
      "Epoch 48/50\n",
      "242608/242608 [==============================] - 70s 287us/step - loss: 0.3451 - acc: 0.8364 - val_loss: 0.5167 - val_acc: 0.7693\n",
      "Epoch 49/50\n",
      "242608/242608 [==============================] - 68s 280us/step - loss: 0.3452 - acc: 0.8364 - val_loss: 0.5213 - val_acc: 0.7691\n",
      "Epoch 50/50\n",
      "242608/242608 [==============================] - 69s 284us/step - loss: 0.3442 - acc: 0.8368 - val_loss: 0.5203 - val_acc: 0.7689\n"
     ]
    },
    {
     "data": {
      "text/plain": [
       "<keras.callbacks.callbacks.History at 0x166b7e910>"
      ]
     },
     "execution_count": 48,
     "metadata": {},
     "output_type": "execute_result"
    }
   ],
   "source": [
    "model.fit([seq1_pad,seq2_pad],y_train.values.reshape(-1,1), epochs = 50, batch_size = 5000,\n",
    "          validation_data=([seq1_pad_val,seq2_pad_val],y_val.values.reshape(-1,1)))\n"
   ]
  },
  {
   "cell_type": "code",
   "execution_count": 49,
   "metadata": {},
   "outputs": [],
   "source": [
    "epochs = 175\n",
    "model.save(f'model_{epochs}')\n",
    "#keras.utils.plot_model(model, to_file='model.png', show_shapes=False, show_layer_names=True, rankdir='TB', expand_nested=False, dpi=96)\n"
   ]
  },
  {
   "cell_type": "code",
   "execution_count": 83,
   "metadata": {
    "scrolled": true
   },
   "outputs": [],
   "source": [
    "model_history = model.history.history"
   ]
  },
  {
   "cell_type": "code",
   "execution_count": 57,
   "metadata": {},
   "outputs": [],
   "source": [
    "model2 = Sequential()"
   ]
  },
  {
   "cell_type": "code",
   "execution_count": 61,
   "metadata": {},
   "outputs": [],
   "source": [
    "\n",
    "common_GRU = GRU(32,return_sequences=True, activation=\"relu\")\n",
    "\n",
    "\n",
    "vector_1 = e(input_1)\n",
    "vector_1 = common_GRU(vector_1)\n",
    "vector_1 = Flatten()(vector_1)\n",
    "\n",
    "vector_2 = e(input_2)\n",
    "vector_2 = common_GRU(vector_2)\n",
    "vector_2 = Flatten()(vector_2)\n",
    "\n",
    "x3 = Subtract()([vector_1, vector_2])\n",
    "x3 = Multiply()([x3, x3])\n",
    "\n",
    "x1_ = Multiply()([vector_1, vector_1])\n",
    "x2_ = Multiply()([vector_2, vector_2])\n",
    "x4 = Subtract()([x1_, x2_])\n",
    "\n",
    "\n",
    "cosine_sim = Lambda(cosine_distance, output_shape=cos_dist_output_shape)([vector_1, vector_2])\n",
    "\n",
    "conc = Concatenate(axis=-1)([cosine_sim,x4, x3])\n",
    "\n",
    "\n",
    "x = Dense(100, activation=\"relu\", name='conc_layer')(conc)\n",
    "x = Dropout(0.01)(x)\n",
    "out = Dense(1, activation=\"sigmoid\", name = 'out')(x)\n",
    "\n",
    "model2 = Model([input_1, input_2], out)\n",
    "\n",
    "model2.compile(loss=\"binary_crossentropy\", metrics=['acc'], optimizer=Adam(0.0001))"
   ]
  },
  {
   "cell_type": "code",
   "execution_count": 62,
   "metadata": {},
   "outputs": [
    {
     "name": "stdout",
     "output_type": "stream",
     "text": [
      "Model: \"model_2\"\n",
      "__________________________________________________________________________________________________\n",
      "Layer (type)                    Output Shape         Param #     Connected to                     \n",
      "==================================================================================================\n",
      "input_3 (InputLayer)            (None, 30)           0                                            \n",
      "__________________________________________________________________________________________________\n",
      "input_4 (InputLayer)            (None, 30)           0                                            \n",
      "__________________________________________________________________________________________________\n",
      "embedding_1 (Embedding)         (None, 30, 100)      7523400     input_3[0][0]                    \n",
      "                                                                 input_4[0][0]                    \n",
      "__________________________________________________________________________________________________\n",
      "gru_2 (GRU)                     (None, 30, 32)       12768       embedding_1[2][0]                \n",
      "                                                                 embedding_1[3][0]                \n",
      "__________________________________________________________________________________________________\n",
      "flatten_3 (Flatten)             (None, 960)          0           gru_2[0][0]                      \n",
      "__________________________________________________________________________________________________\n",
      "flatten_4 (Flatten)             (None, 960)          0           gru_2[1][0]                      \n",
      "__________________________________________________________________________________________________\n",
      "multiply_5 (Multiply)           (None, 960)          0           flatten_3[0][0]                  \n",
      "                                                                 flatten_3[0][0]                  \n",
      "__________________________________________________________________________________________________\n",
      "multiply_6 (Multiply)           (None, 960)          0           flatten_4[0][0]                  \n",
      "                                                                 flatten_4[0][0]                  \n",
      "__________________________________________________________________________________________________\n",
      "subtract_3 (Subtract)           (None, 960)          0           flatten_3[0][0]                  \n",
      "                                                                 flatten_4[0][0]                  \n",
      "__________________________________________________________________________________________________\n",
      "lambda_2 (Lambda)               (None, 1)            0           flatten_3[0][0]                  \n",
      "                                                                 flatten_4[0][0]                  \n",
      "__________________________________________________________________________________________________\n",
      "subtract_4 (Subtract)           (None, 960)          0           multiply_5[0][0]                 \n",
      "                                                                 multiply_6[0][0]                 \n",
      "__________________________________________________________________________________________________\n",
      "multiply_4 (Multiply)           (None, 960)          0           subtract_3[0][0]                 \n",
      "                                                                 subtract_3[0][0]                 \n",
      "__________________________________________________________________________________________________\n",
      "concatenate_2 (Concatenate)     (None, 1921)         0           lambda_2[0][0]                   \n",
      "                                                                 subtract_4[0][0]                 \n",
      "                                                                 multiply_4[0][0]                 \n",
      "__________________________________________________________________________________________________\n",
      "conc_layer (Dense)              (None, 100)          192200      concatenate_2[0][0]              \n",
      "__________________________________________________________________________________________________\n",
      "dropout_2 (Dropout)             (None, 100)          0           conc_layer[0][0]                 \n",
      "__________________________________________________________________________________________________\n",
      "out (Dense)                     (None, 1)            101         dropout_2[0][0]                  \n",
      "==================================================================================================\n",
      "Total params: 7,728,469\n",
      "Trainable params: 205,069\n",
      "Non-trainable params: 7,523,400\n",
      "__________________________________________________________________________________________________\n"
     ]
    }
   ],
   "source": [
    "model2.summary()"
   ]
  },
  {
   "cell_type": "code",
   "execution_count": 100,
   "metadata": {},
   "outputs": [
    {
     "name": "stdout",
     "output_type": "stream",
     "text": [
      "Train on 242608 samples, validate on 80870 samples\n",
      "Epoch 1/50\n",
      "242608/242608 [==============================] - 43s 179us/step - loss: 0.3102 - acc: 0.8576 - val_loss: 0.5477 - val_acc: 0.7685\n",
      "Epoch 2/50\n",
      "242608/242608 [==============================] - 45s 184us/step - loss: 0.2977 - acc: 0.8645 - val_loss: 0.5614 - val_acc: 0.7694\n",
      "Epoch 3/50\n",
      "242608/242608 [==============================] - 45s 185us/step - loss: 0.2925 - acc: 0.8677 - val_loss: 0.5674 - val_acc: 0.7699\n",
      "Epoch 4/50\n",
      "242608/242608 [==============================] - 46s 190us/step - loss: 0.2890 - acc: 0.8703 - val_loss: 0.5661 - val_acc: 0.7700\n",
      "Epoch 5/50\n",
      "242608/242608 [==============================] - 44s 183us/step - loss: 0.2863 - acc: 0.8710 - val_loss: 0.5717 - val_acc: 0.7704\n",
      "Epoch 6/50\n",
      "242608/242608 [==============================] - 44s 181us/step - loss: 0.2833 - acc: 0.8728 - val_loss: 0.5757 - val_acc: 0.7672\n",
      "Epoch 7/50\n",
      "242608/242608 [==============================] - 45s 184us/step - loss: 0.2811 - acc: 0.8737 - val_loss: 0.5946 - val_acc: 0.7686\n",
      "Epoch 8/50\n",
      "242608/242608 [==============================] - 45s 184us/step - loss: 0.2793 - acc: 0.8746 - val_loss: 0.5800 - val_acc: 0.7699\n",
      "Epoch 9/50\n",
      "242608/242608 [==============================] - 45s 184us/step - loss: 0.2772 - acc: 0.8759 - val_loss: 0.5846 - val_acc: 0.7692\n",
      "Epoch 10/50\n",
      "242608/242608 [==============================] - 45s 184us/step - loss: 0.2748 - acc: 0.8768 - val_loss: 0.5872 - val_acc: 0.7690\n",
      "Epoch 11/50\n",
      "242608/242608 [==============================] - 44s 183us/step - loss: 0.2730 - acc: 0.8781 - val_loss: 0.5875 - val_acc: 0.7697\n",
      "Epoch 12/50\n",
      "242608/242608 [==============================] - 45s 184us/step - loss: 0.2709 - acc: 0.8788 - val_loss: 0.5989 - val_acc: 0.7641\n",
      "Epoch 13/50\n",
      "242608/242608 [==============================] - 44s 183us/step - loss: 0.2688 - acc: 0.8807 - val_loss: 0.5985 - val_acc: 0.7681\n",
      "Epoch 14/50\n",
      "242608/242608 [==============================] - 44s 183us/step - loss: 0.2673 - acc: 0.8810 - val_loss: 0.6004 - val_acc: 0.7690\n",
      "Epoch 15/50\n",
      "242608/242608 [==============================] - 44s 183us/step - loss: 0.2647 - acc: 0.8824 - val_loss: 0.6046 - val_acc: 0.7665\n",
      "Epoch 16/50\n",
      "242608/242608 [==============================] - 45s 184us/step - loss: 0.2634 - acc: 0.8831 - val_loss: 0.6083 - val_acc: 0.7664\n",
      "Epoch 17/50\n",
      "242608/242608 [==============================] - 45s 185us/step - loss: 0.2617 - acc: 0.8845 - val_loss: 0.6152 - val_acc: 0.7677\n",
      "Epoch 18/50\n",
      "242608/242608 [==============================] - 45s 186us/step - loss: 0.2593 - acc: 0.8847 - val_loss: 0.6179 - val_acc: 0.7684\n",
      "Epoch 19/50\n",
      "242608/242608 [==============================] - 45s 186us/step - loss: 0.2579 - acc: 0.8858 - val_loss: 0.6199 - val_acc: 0.7674\n",
      "Epoch 20/50\n",
      "242608/242608 [==============================] - 45s 186us/step - loss: 0.2560 - acc: 0.8866 - val_loss: 0.6195 - val_acc: 0.7686\n",
      "Epoch 21/50\n",
      "242608/242608 [==============================] - 45s 186us/step - loss: 0.2541 - acc: 0.8881 - val_loss: 0.6292 - val_acc: 0.7668\n",
      "Epoch 22/50\n",
      "242608/242608 [==============================] - 45s 186us/step - loss: 0.2527 - acc: 0.8886 - val_loss: 0.6303 - val_acc: 0.7674\n",
      "Epoch 23/50\n",
      "242608/242608 [==============================] - 45s 186us/step - loss: 0.2509 - acc: 0.8893 - val_loss: 0.6378 - val_acc: 0.7670\n",
      "Epoch 24/50\n",
      "242608/242608 [==============================] - 45s 186us/step - loss: 0.2489 - acc: 0.8904 - val_loss: 0.6406 - val_acc: 0.7675\n",
      "Epoch 25/50\n",
      "242608/242608 [==============================] - 45s 186us/step - loss: 0.2480 - acc: 0.8908 - val_loss: 0.6522 - val_acc: 0.7679\n",
      "Epoch 26/50\n",
      "242608/242608 [==============================] - 45s 186us/step - loss: 0.2462 - acc: 0.8920 - val_loss: 0.6443 - val_acc: 0.7667\n",
      "Epoch 27/50\n",
      "242608/242608 [==============================] - 45s 186us/step - loss: 0.2443 - acc: 0.8930 - val_loss: 0.6471 - val_acc: 0.7689\n",
      "Epoch 28/50\n",
      "242608/242608 [==============================] - 45s 186us/step - loss: 0.2433 - acc: 0.8936 - val_loss: 0.6559 - val_acc: 0.7681\n",
      "Epoch 29/50\n",
      "242608/242608 [==============================] - 45s 186us/step - loss: 0.2412 - acc: 0.8942 - val_loss: 0.6552 - val_acc: 0.7656\n",
      "Epoch 30/50\n",
      "242608/242608 [==============================] - 45s 186us/step - loss: 0.2401 - acc: 0.8947 - val_loss: 0.6599 - val_acc: 0.7678\n",
      "Epoch 31/50\n",
      "242608/242608 [==============================] - 45s 187us/step - loss: 0.2391 - acc: 0.8959 - val_loss: 0.6653 - val_acc: 0.7660\n",
      "Epoch 32/50\n",
      "242608/242608 [==============================] - 46s 188us/step - loss: 0.2372 - acc: 0.8969 - val_loss: 0.6687 - val_acc: 0.7664\n",
      "Epoch 33/50\n",
      "242608/242608 [==============================] - 45s 188us/step - loss: 0.2362 - acc: 0.8965 - val_loss: 0.6739 - val_acc: 0.7665\n",
      "Epoch 34/50\n",
      "242608/242608 [==============================] - 45s 187us/step - loss: 0.2346 - acc: 0.8980 - val_loss: 0.6754 - val_acc: 0.7672\n",
      "Epoch 35/50\n",
      "242608/242608 [==============================] - 45s 187us/step - loss: 0.2327 - acc: 0.8982 - val_loss: 0.6849 - val_acc: 0.7676\n",
      "Epoch 36/50\n",
      "242608/242608 [==============================] - 46s 188us/step - loss: 0.2313 - acc: 0.8991 - val_loss: 0.6904 - val_acc: 0.7679\n",
      "Epoch 37/50\n",
      "242608/242608 [==============================] - 46s 188us/step - loss: 0.2296 - acc: 0.8997 - val_loss: 0.6914 - val_acc: 0.7685\n",
      "Epoch 38/50\n",
      "242608/242608 [==============================] - 46s 188us/step - loss: 0.2285 - acc: 0.9001 - val_loss: 0.6901 - val_acc: 0.7682\n",
      "Epoch 39/50\n",
      "242608/242608 [==============================] - 45s 187us/step - loss: 0.2264 - acc: 0.9013 - val_loss: 0.7037 - val_acc: 0.7666\n",
      "Epoch 40/50\n",
      "242608/242608 [==============================] - 46s 188us/step - loss: 0.2262 - acc: 0.9014 - val_loss: 0.7017 - val_acc: 0.7662\n",
      "Epoch 41/50\n",
      "242608/242608 [==============================] - 46s 188us/step - loss: 0.2247 - acc: 0.9028 - val_loss: 0.7058 - val_acc: 0.7653\n",
      "Epoch 42/50\n",
      "242608/242608 [==============================] - 46s 189us/step - loss: 0.2237 - acc: 0.9027 - val_loss: 0.7096 - val_acc: 0.7657\n",
      "Epoch 43/50\n",
      "242608/242608 [==============================] - 46s 188us/step - loss: 0.2215 - acc: 0.9038 - val_loss: 0.7100 - val_acc: 0.7647\n",
      "Epoch 44/50\n",
      "242608/242608 [==============================] - 46s 188us/step - loss: 0.2203 - acc: 0.9051 - val_loss: 0.7166 - val_acc: 0.7667\n",
      "Epoch 45/50\n",
      "242608/242608 [==============================] - 46s 189us/step - loss: 0.2194 - acc: 0.9056 - val_loss: 0.7259 - val_acc: 0.7667\n",
      "Epoch 46/50\n",
      "242608/242608 [==============================] - 46s 188us/step - loss: 0.2191 - acc: 0.9055 - val_loss: 0.7287 - val_acc: 0.7665\n",
      "Epoch 47/50\n",
      "242608/242608 [==============================] - 46s 188us/step - loss: 0.2175 - acc: 0.9056 - val_loss: 0.7212 - val_acc: 0.7658\n",
      "Epoch 48/50\n",
      "242608/242608 [==============================] - 46s 188us/step - loss: 0.2160 - acc: 0.9067 - val_loss: 0.7261 - val_acc: 0.7631\n",
      "Epoch 49/50\n",
      "242608/242608 [==============================] - 46s 188us/step - loss: 0.2149 - acc: 0.9073 - val_loss: 0.7339 - val_acc: 0.7647\n",
      "Epoch 50/50\n",
      "242608/242608 [==============================] - 46s 189us/step - loss: 0.2140 - acc: 0.9079 - val_loss: 0.7373 - val_acc: 0.7661\n"
     ]
    },
    {
     "data": {
      "text/plain": [
       "<keras.callbacks.callbacks.History at 0x1672576d0>"
      ]
     },
     "execution_count": 100,
     "metadata": {},
     "output_type": "execute_result"
    }
   ],
   "source": [
    "model2.fit([seq1_pad,seq2_pad],y_train.values.reshape(-1,1), epochs = 50, batch_size = 500,\n",
    "          validation_data=([seq1_pad_val,seq2_pad_val],y_val.values.reshape(-1,1)))\n"
   ]
  },
  {
   "cell_type": "code",
   "execution_count": 102,
   "metadata": {},
   "outputs": [
    {
     "data": {
      "text/plain": [
       "<keras.engine.training.Model at 0x140391290>"
      ]
     },
     "execution_count": 102,
     "metadata": {},
     "output_type": "execute_result"
    }
   ],
   "source": [
    "epochs2 = 50\n",
    "model.save(f'model2.slow_{epochs2}')\n",
    "\n",
    "model2_slow_history =[]\n",
    "model2_slow_history.append(model2.history.history)\n",
    "\n",
    "model2_slow_val_acc = model2_slow_history[-1]['val_acc']\n",
    "model1_val_acc = model_history['val_acc']\n",
    "\n",
    "\n",
    "model1_val_loss = model_history['val_loss']\n",
    "model2_slow_val_loss = model2_slow_history[-1]['val_acc']\n",
    "\n",
    "model"
   ]
  },
  {
   "cell_type": "code",
   "execution_count": 104,
   "metadata": {},
   "outputs": [
    {
     "data": {
      "text/plain": [
       "[<matplotlib.lines.Line2D at 0x167b28810>]"
      ]
     },
     "execution_count": 104,
     "metadata": {},
     "output_type": "execute_result"
    },
    {
     "data": {
      "image/png": "[encoded data removed]",
      "text/plain": [
       "<Figure size 864x864 with 2 Axes>"
      ]
     },
     "metadata": {
      "needs_background": "light"
     },
     "output_type": "display_data"
    }
   ],
   "source": [
    "fig, ax = plt.subplots(2,1,figsize=(12,12))\n",
    "\n",
    "ax[0].plot(model1_val_acc)\n",
    "ax[0].plot(model2_val_acc)\n",
    "ax[0].plot(model2_slow_val_acc)\n",
    "\n",
    "ax[1].plot(model1_val_loss)\n",
    "ax[1].plot(model2_val_loss)"
   ]
  },
  {
   "cell_type": "code",
   "execution_count": null,
   "metadata": {},
   "outputs": [],
   "source": []
  },
  {
   "cell_type": "code",
   "execution_count": 84,
   "metadata": {},
   "outputs": [
    {
     "data": {
      "text/plain": [
       "{'val_loss': [0.4918635563803527,\n",
       "  0.49319574148056167,\n",
       "  0.4911749103506519,\n",
       "  0.49018181198029787,\n",
       "  0.49379046834914075,\n",
       "  0.4915957327264635,\n",
       "  0.4939584912152053,\n",
       "  0.4928412670970951,\n",
       "  0.492015838917864,\n",
       "  0.49728715942332574,\n",
       "  0.496306706155881,\n",
       "  0.4954777990907884,\n",
       "  0.49455352544533954,\n",
       "  0.4968928161953706,\n",
       "  0.4971027302405913,\n",
       "  0.4985176687653639,\n",
       "  0.49999978124940586,\n",
       "  0.4995991727898085,\n",
       "  0.49799453643191743,\n",
       "  0.4991702787164441,\n",
       "  0.5026024326127466,\n",
       "  0.5022648906470436,\n",
       "  0.5022657501494117,\n",
       "  0.5023881374750412,\n",
       "  0.502313144329055,\n",
       "  0.5093571039408913,\n",
       "  0.5049976796681999,\n",
       "  0.5047713961547601,\n",
       "  0.5079039679376101,\n",
       "  0.5056969933999518,\n",
       "  0.5051708208500447,\n",
       "  0.5071207936325725,\n",
       "  0.5077945317092307,\n",
       "  0.5097184305183965,\n",
       "  0.5071163755258022,\n",
       "  0.511324515157862,\n",
       "  0.5104097006449788,\n",
       "  0.5077282486982571,\n",
       "  0.5101083561444557,\n",
       "  0.5126780456159353,\n",
       "  0.5115127751569865,\n",
       "  0.512895780904222,\n",
       "  0.5115165153097514,\n",
       "  0.5114866002124571,\n",
       "  0.5147950779718036,\n",
       "  0.5152287270947029,\n",
       "  0.5144612232907911,\n",
       "  0.5166737987008395,\n",
       "  0.5212544413893601,\n",
       "  0.5202926244239835],\n",
       " 'val_acc': [0.7678372859954834,\n",
       "  0.7691479921340942,\n",
       "  0.7685668468475342,\n",
       "  0.768406093120575,\n",
       "  0.7686286568641663,\n",
       "  0.7692716717720032,\n",
       "  0.767886757850647,\n",
       "  0.7683195471763611,\n",
       "  0.7684431672096252,\n",
       "  0.7692840099334717,\n",
       "  0.7689006924629211,\n",
       "  0.768591582775116,\n",
       "  0.7675281167030334,\n",
       "  0.7677754163742065,\n",
       "  0.7685297131538391,\n",
       "  0.7679361701011658,\n",
       "  0.767911434173584,\n",
       "  0.7689254283905029,\n",
       "  0.768653392791748,\n",
       "  0.7679980397224426,\n",
       "  0.7685791850090027,\n",
       "  0.7696055173873901,\n",
       "  0.7694447636604309,\n",
       "  0.7681958675384521,\n",
       "  0.7697415351867676,\n",
       "  0.7688388824462891,\n",
       "  0.7681463956832886,\n",
       "  0.7688636183738708,\n",
       "  0.7696426510810852,\n",
       "  0.7684803009033203,\n",
       "  0.7688759565353394,\n",
       "  0.7685173749923706,\n",
       "  0.7675033807754517,\n",
       "  0.7691232562065125,\n",
       "  0.7664770483970642,\n",
       "  0.7690861821174622,\n",
       "  0.7679238319396973,\n",
       "  0.7678001523017883,\n",
       "  0.7667120099067688,\n",
       "  0.7683566212654114,\n",
       "  0.7686657309532166,\n",
       "  0.7685297131538391,\n",
       "  0.7682700753211975,\n",
       "  0.7684184312820435,\n",
       "  0.7694942355155945,\n",
       "  0.7681835293769836,\n",
       "  0.7689749002456665,\n",
       "  0.7692716717720032,\n",
       "  0.7690738439559937,\n",
       "  0.7688759565353394],\n",
       " 'loss': [0.37959829462511685,\n",
       "  0.37866198295245956,\n",
       "  0.377204898621243,\n",
       "  0.3770373176810594,\n",
       "  0.3761011204593046,\n",
       "  0.37535217012943495,\n",
       "  0.37452506729628476,\n",
       "  0.37356348981102877,\n",
       "  0.37273834039500936,\n",
       "  0.37212447841257235,\n",
       "  0.37164043908575034,\n",
       "  0.3706097197143099,\n",
       "  0.3701058481674053,\n",
       "  0.3693476753955638,\n",
       "  0.3682736693733735,\n",
       "  0.36755816484082543,\n",
       "  0.36687121334573114,\n",
       "  0.36576889412766167,\n",
       "  0.3646983868967439,\n",
       "  0.3643600793746643,\n",
       "  0.363913958212053,\n",
       "  0.3629768682089879,\n",
       "  0.36199056799128904,\n",
       "  0.3619755726460691,\n",
       "  0.36093330220167313,\n",
       "  0.36046489931592396,\n",
       "  0.35988570332590053,\n",
       "  0.35874178941843576,\n",
       "  0.3583441280565106,\n",
       "  0.35764290100920604,\n",
       "  0.3569357566236231,\n",
       "  0.35588627669613604,\n",
       "  0.35513244725359405,\n",
       "  0.35461967808408756,\n",
       "  0.3544467875436327,\n",
       "  0.35329638175459466,\n",
       "  0.35283372293088283,\n",
       "  0.3523602208280708,\n",
       "  0.3512856744528053,\n",
       "  0.35100788414313205,\n",
       "  0.3501173858876311,\n",
       "  0.34944915558919504,\n",
       "  0.34855961681595504,\n",
       "  0.34834360295771166,\n",
       "  0.3477557347611419,\n",
       "  0.34692442201926527,\n",
       "  0.34606427973558757,\n",
       "  0.3451358587432252,\n",
       "  0.3452337392626294,\n",
       "  0.34415156916221196],\n",
       " 'acc': [0.81618905,\n",
       "  0.8176771,\n",
       "  0.81799036,\n",
       "  0.81815934,\n",
       "  0.8187364,\n",
       "  0.81899196,\n",
       "  0.81917334,\n",
       "  0.8205212,\n",
       "  0.8209952,\n",
       "  0.8216382,\n",
       "  0.8212384,\n",
       "  0.8220751,\n",
       "  0.8217866,\n",
       "  0.82296956,\n",
       "  0.8227717,\n",
       "  0.823695,\n",
       "  0.8236909,\n",
       "  0.8239753,\n",
       "  0.8258631,\n",
       "  0.8254674,\n",
       "  0.82557046,\n",
       "  0.82596207,\n",
       "  0.8264649,\n",
       "  0.827042,\n",
       "  0.8275531,\n",
       "  0.82771385,\n",
       "  0.828361,\n",
       "  0.82896274,\n",
       "  0.82909465,\n",
       "  0.8291153,\n",
       "  0.8294038,\n",
       "  0.8306404,\n",
       "  0.83011687,\n",
       "  0.8309742,\n",
       "  0.8312793,\n",
       "  0.8318316,\n",
       "  0.8323674,\n",
       "  0.8323798,\n",
       "  0.833064,\n",
       "  0.83316296,\n",
       "  0.8333402,\n",
       "  0.83329487,\n",
       "  0.8342717,\n",
       "  0.83435833,\n",
       "  0.8346427,\n",
       "  0.83549595,\n",
       "  0.83497244,\n",
       "  0.8364192,\n",
       "  0.83644396,\n",
       "  0.83675724]}"
      ]
     },
     "execution_count": 84,
     "metadata": {},
     "output_type": "execute_result"
    }
   ],
   "source": [
    "model_history"
   ]
  },
  {
   "cell_type": "code",
   "execution_count": 108,
   "metadata": {},
   "outputs": [],
   "source": [
    "model3 = Sequential()"
   ]
  },
  {
   "cell_type": "code",
   "execution_count": 114,
   "metadata": {},
   "outputs": [],
   "source": [
    "\n",
    "common_GRU = GRU(32,return_sequences=True, activation=\"relu\")\n",
    "\n",
    "\n",
    "vector_1 = e(input_1)\n",
    "vector_1 = common_GRU(vector_1)\n",
    "#vector_1 = common_GRU(vector_1)\n",
    "vector_1 = Flatten()(vector_1)\n",
    "\n",
    "vector_2 = e(input_2)\n",
    "vector_2 = common_GRU(vector_2)\n",
    "#vector_2 = common_GRU(vector_2)\n",
    "vector_2 = Flatten()(vector_2)\n",
    "\n",
    "x3 = Subtract()([vector_1, vector_2])\n",
    "x3 = Multiply()([x3, x3])\n",
    "\n",
    "x1_ = Multiply()([vector_1, vector_1])\n",
    "x2_ = Multiply()([vector_2, vector_2])\n",
    "x4 = Subtract()([x1_, x2_])\n",
    "\n",
    "\n",
    "cosine_sim = Lambda(cosine_distance, output_shape=cos_dist_output_shape)([vector_1, vector_2])\n",
    "\n",
    "conc = Concatenate(axis=-1)([cosine_sim,x4, x3])\n",
    "\n",
    "\n",
    "x = Dense(100, activation=\"relu\", name='conc_layer')(conc)\n",
    "x = Dropout(0.01)(x)\n",
    "out = Dense(1, activation=\"sigmoid\", name = 'out')(x)\n",
    "\n",
    "model3 = Model([input_1, input_2], out)\n",
    "\n",
    "model3.compile(loss=\"binary_crossentropy\", metrics=['acc'], optimizer=Adam(0.0001))"
   ]
  },
  {
   "cell_type": "code",
   "execution_count": 116,
   "metadata": {},
   "outputs": [
    {
     "name": "stdout",
     "output_type": "stream",
     "text": [
      "Train on 242608 samples, validate on 80870 samples\n",
      "Epoch 1/50\n",
      "242608/242608 [==============================] - 48s 196us/step - loss: 0.5984 - acc: 0.6494 - val_loss: 0.5699 - val_acc: 0.6921\n",
      "Epoch 2/50\n",
      "242608/242608 [==============================] - 47s 194us/step - loss: 0.5510 - acc: 0.7097 - val_loss: 0.5456 - val_acc: 0.7153\n",
      "Epoch 3/50\n",
      "242608/242608 [==============================] - 46s 189us/step - loss: 0.5281 - acc: 0.7264 - val_loss: 0.5299 - val_acc: 0.7255\n",
      "Epoch 4/50\n",
      "242608/242608 [==============================] - 46s 189us/step - loss: 0.5120 - acc: 0.7376 - val_loss: 0.5189 - val_acc: 0.7331\n",
      "Epoch 5/50\n",
      "242608/242608 [==============================] - 47s 193us/step - loss: 0.4995 - acc: 0.7460 - val_loss: 0.5117 - val_acc: 0.7387\n",
      "Epoch 6/50\n",
      "242608/242608 [==============================] - 46s 189us/step - loss: 0.4892 - acc: 0.7519 - val_loss: 0.5036 - val_acc: 0.7441\n",
      "Epoch 7/50\n",
      "242608/242608 [==============================] - 46s 190us/step - loss: 0.4800 - acc: 0.7577 - val_loss: 0.4986 - val_acc: 0.7478\n",
      "Epoch 8/50\n",
      "242608/242608 [==============================] - 46s 191us/step - loss: 0.4714 - acc: 0.7628 - val_loss: 0.4950 - val_acc: 0.7503\n",
      "Epoch 9/50\n",
      "158000/242608 [==================>...........] - ETA: 14s - loss: 0.4645 - acc: 0.7675"
     ]
    },
    {
     "ename": "KeyboardInterrupt",
     "evalue": "",
     "output_type": "error",
     "traceback": [
      "\u001b[0;31m---------------------------------------------------------------------------\u001b[0m",
      "\u001b[0;31mKeyboardInterrupt\u001b[0m                         Traceback (most recent call last)",
      "\u001b[0;32m<ipython-input-116-fdd4d8e41eec>\u001b[0m in \u001b[0;36m<module>\u001b[0;34m\u001b[0m\n\u001b[1;32m      1\u001b[0m model3.fit([seq1_pad,seq2_pad],y_train.values.reshape(-1,1), epochs = 50, batch_size = 500,\n\u001b[0;32m----> 2\u001b[0;31m           validation_data=([seq1_pad_val,seq2_pad_val],y_val.values.reshape(-1,1)))\n\u001b[0m",
      "\u001b[0;32m/Applications/anaconda3/lib/python3.7/site-packages/keras/engine/training.py\u001b[0m in \u001b[0;36mfit\u001b[0;34m(self, x, y, batch_size, epochs, verbose, callbacks, validation_split, validation_data, shuffle, class_weight, sample_weight, initial_epoch, steps_per_epoch, validation_steps, validation_freq, max_queue_size, workers, use_multiprocessing, **kwargs)\u001b[0m\n\u001b[1;32m   1237\u001b[0m                                         \u001b[0msteps_per_epoch\u001b[0m\u001b[0;34m=\u001b[0m\u001b[0msteps_per_epoch\u001b[0m\u001b[0;34m,\u001b[0m\u001b[0;34m\u001b[0m\u001b[0;34m\u001b[0m\u001b[0m\n\u001b[1;32m   1238\u001b[0m                                         \u001b[0mvalidation_steps\u001b[0m\u001b[0;34m=\u001b[0m\u001b[0mvalidation_steps\u001b[0m\u001b[0;34m,\u001b[0m\u001b[0;34m\u001b[0m\u001b[0;34m\u001b[0m\u001b[0m\n\u001b[0;32m-> 1239\u001b[0;31m                                         validation_freq=validation_freq)\n\u001b[0m\u001b[1;32m   1240\u001b[0m \u001b[0;34m\u001b[0m\u001b[0m\n\u001b[1;32m   1241\u001b[0m     def evaluate(self,\n",
      "\u001b[0;32m/Applications/anaconda3/lib/python3.7/site-packages/keras/engine/training_arrays.py\u001b[0m in \u001b[0;36mfit_loop\u001b[0;34m(model, fit_function, fit_inputs, out_labels, batch_size, epochs, verbose, callbacks, val_function, val_inputs, shuffle, initial_epoch, steps_per_epoch, validation_steps, validation_freq)\u001b[0m\n\u001b[1;32m    194\u001b[0m                     \u001b[0mins_batch\u001b[0m\u001b[0;34m[\u001b[0m\u001b[0mi\u001b[0m\u001b[0;34m]\u001b[0m \u001b[0;34m=\u001b[0m \u001b[0mins_batch\u001b[0m\u001b[0;34m[\u001b[0m\u001b[0mi\u001b[0m\u001b[0;34m]\u001b[0m\u001b[0;34m.\u001b[0m\u001b[0mtoarray\u001b[0m\u001b[0;34m(\u001b[0m\u001b[0;34m)\u001b[0m\u001b[0;34m\u001b[0m\u001b[0;34m\u001b[0m\u001b[0m\n\u001b[1;32m    195\u001b[0m \u001b[0;34m\u001b[0m\u001b[0m\n\u001b[0;32m--> 196\u001b[0;31m                 \u001b[0mouts\u001b[0m \u001b[0;34m=\u001b[0m \u001b[0mfit_function\u001b[0m\u001b[0;34m(\u001b[0m\u001b[0mins_batch\u001b[0m\u001b[0;34m)\u001b[0m\u001b[0;34m\u001b[0m\u001b[0;34m\u001b[0m\u001b[0m\n\u001b[0m\u001b[1;32m    197\u001b[0m                 \u001b[0mouts\u001b[0m \u001b[0;34m=\u001b[0m \u001b[0mto_list\u001b[0m\u001b[0;34m(\u001b[0m\u001b[0mouts\u001b[0m\u001b[0;34m)\u001b[0m\u001b[0;34m\u001b[0m\u001b[0;34m\u001b[0m\u001b[0m\n\u001b[1;32m    198\u001b[0m                 \u001b[0;32mfor\u001b[0m \u001b[0ml\u001b[0m\u001b[0;34m,\u001b[0m \u001b[0mo\u001b[0m \u001b[0;32min\u001b[0m \u001b[0mzip\u001b[0m\u001b[0;34m(\u001b[0m\u001b[0mout_labels\u001b[0m\u001b[0;34m,\u001b[0m \u001b[0mouts\u001b[0m\u001b[0;34m)\u001b[0m\u001b[0;34m:\u001b[0m\u001b[0;34m\u001b[0m\u001b[0;34m\u001b[0m\u001b[0m\n",
      "\u001b[0;32m/Applications/anaconda3/lib/python3.7/site-packages/tensorflow_core/python/keras/backend.py\u001b[0m in \u001b[0;36m__call__\u001b[0;34m(self, inputs)\u001b[0m\n\u001b[1;32m   3725\u001b[0m         \u001b[0mvalue\u001b[0m \u001b[0;34m=\u001b[0m \u001b[0mmath_ops\u001b[0m\u001b[0;34m.\u001b[0m\u001b[0mcast\u001b[0m\u001b[0;34m(\u001b[0m\u001b[0mvalue\u001b[0m\u001b[0;34m,\u001b[0m \u001b[0mtensor\u001b[0m\u001b[0;34m.\u001b[0m\u001b[0mdtype\u001b[0m\u001b[0;34m)\u001b[0m\u001b[0;34m\u001b[0m\u001b[0;34m\u001b[0m\u001b[0m\n\u001b[1;32m   3726\u001b[0m       \u001b[0mconverted_inputs\u001b[0m\u001b[0;34m.\u001b[0m\u001b[0mappend\u001b[0m\u001b[0;34m(\u001b[0m\u001b[0mvalue\u001b[0m\u001b[0;34m)\u001b[0m\u001b[0;34m\u001b[0m\u001b[0;34m\u001b[0m\u001b[0m\n\u001b[0;32m-> 3727\u001b[0;31m     \u001b[0moutputs\u001b[0m \u001b[0;34m=\u001b[0m \u001b[0mself\u001b[0m\u001b[0;34m.\u001b[0m\u001b[0m_graph_fn\u001b[0m\u001b[0;34m(\u001b[0m\u001b[0;34m*\u001b[0m\u001b[0mconverted_inputs\u001b[0m\u001b[0;34m)\u001b[0m\u001b[0;34m\u001b[0m\u001b[0;34m\u001b[0m\u001b[0m\n\u001b[0m\u001b[1;32m   3728\u001b[0m \u001b[0;34m\u001b[0m\u001b[0m\n\u001b[1;32m   3729\u001b[0m     \u001b[0;31m# EagerTensor.numpy() will often make a copy to ensure memory safety.\u001b[0m\u001b[0;34m\u001b[0m\u001b[0;34m\u001b[0m\u001b[0;34m\u001b[0m\u001b[0m\n",
      "\u001b[0;32m/Applications/anaconda3/lib/python3.7/site-packages/tensorflow_core/python/eager/function.py\u001b[0m in \u001b[0;36m__call__\u001b[0;34m(self, *args, **kwargs)\u001b[0m\n\u001b[1;32m   1549\u001b[0m       \u001b[0mTypeError\u001b[0m\u001b[0;34m:\u001b[0m \u001b[0mFor\u001b[0m \u001b[0minvalid\u001b[0m \u001b[0mpositional\u001b[0m\u001b[0;34m/\u001b[0m\u001b[0mkeyword\u001b[0m \u001b[0margument\u001b[0m \u001b[0mcombinations\u001b[0m\u001b[0;34m.\u001b[0m\u001b[0;34m\u001b[0m\u001b[0;34m\u001b[0m\u001b[0m\n\u001b[1;32m   1550\u001b[0m     \"\"\"\n\u001b[0;32m-> 1551\u001b[0;31m     \u001b[0;32mreturn\u001b[0m \u001b[0mself\u001b[0m\u001b[0;34m.\u001b[0m\u001b[0m_call_impl\u001b[0m\u001b[0;34m(\u001b[0m\u001b[0margs\u001b[0m\u001b[0;34m,\u001b[0m \u001b[0mkwargs\u001b[0m\u001b[0;34m)\u001b[0m\u001b[0;34m\u001b[0m\u001b[0;34m\u001b[0m\u001b[0m\n\u001b[0m\u001b[1;32m   1552\u001b[0m \u001b[0;34m\u001b[0m\u001b[0m\n\u001b[1;32m   1553\u001b[0m   \u001b[0;32mdef\u001b[0m \u001b[0m_call_impl\u001b[0m\u001b[0;34m(\u001b[0m\u001b[0mself\u001b[0m\u001b[0;34m,\u001b[0m \u001b[0margs\u001b[0m\u001b[0;34m,\u001b[0m \u001b[0mkwargs\u001b[0m\u001b[0;34m,\u001b[0m \u001b[0mcancellation_manager\u001b[0m\u001b[0;34m=\u001b[0m\u001b[0;32mNone\u001b[0m\u001b[0;34m)\u001b[0m\u001b[0;34m:\u001b[0m\u001b[0;34m\u001b[0m\u001b[0;34m\u001b[0m\u001b[0m\n",
      "\u001b[0;32m/Applications/anaconda3/lib/python3.7/site-packages/tensorflow_core/python/eager/function.py\u001b[0m in \u001b[0;36m_call_impl\u001b[0;34m(self, args, kwargs, cancellation_manager)\u001b[0m\n\u001b[1;32m   1589\u001b[0m       raise TypeError(\"Keyword arguments {} unknown. Expected {}.\".format(\n\u001b[1;32m   1590\u001b[0m           list(kwargs.keys()), list(self._arg_keywords)))\n\u001b[0;32m-> 1591\u001b[0;31m     \u001b[0;32mreturn\u001b[0m \u001b[0mself\u001b[0m\u001b[0;34m.\u001b[0m\u001b[0m_call_flat\u001b[0m\u001b[0;34m(\u001b[0m\u001b[0margs\u001b[0m\u001b[0;34m,\u001b[0m \u001b[0mself\u001b[0m\u001b[0;34m.\u001b[0m\u001b[0mcaptured_inputs\u001b[0m\u001b[0;34m,\u001b[0m \u001b[0mcancellation_manager\u001b[0m\u001b[0;34m)\u001b[0m\u001b[0;34m\u001b[0m\u001b[0;34m\u001b[0m\u001b[0m\n\u001b[0m\u001b[1;32m   1592\u001b[0m \u001b[0;34m\u001b[0m\u001b[0m\n\u001b[1;32m   1593\u001b[0m   \u001b[0;32mdef\u001b[0m \u001b[0m_filtered_call\u001b[0m\u001b[0;34m(\u001b[0m\u001b[0mself\u001b[0m\u001b[0;34m,\u001b[0m \u001b[0margs\u001b[0m\u001b[0;34m,\u001b[0m \u001b[0mkwargs\u001b[0m\u001b[0;34m)\u001b[0m\u001b[0;34m:\u001b[0m\u001b[0;34m\u001b[0m\u001b[0;34m\u001b[0m\u001b[0m\n",
      "\u001b[0;32m/Applications/anaconda3/lib/python3.7/site-packages/tensorflow_core/python/eager/function.py\u001b[0m in \u001b[0;36m_call_flat\u001b[0;34m(self, args, captured_inputs, cancellation_manager)\u001b[0m\n\u001b[1;32m   1690\u001b[0m       \u001b[0;31m# No tape is watching; skip to running the function.\u001b[0m\u001b[0;34m\u001b[0m\u001b[0;34m\u001b[0m\u001b[0;34m\u001b[0m\u001b[0m\n\u001b[1;32m   1691\u001b[0m       return self._build_call_outputs(self._inference_function.call(\n\u001b[0;32m-> 1692\u001b[0;31m           ctx, args, cancellation_manager=cancellation_manager))\n\u001b[0m\u001b[1;32m   1693\u001b[0m     forward_backward = self._select_forward_and_backward_functions(\n\u001b[1;32m   1694\u001b[0m         \u001b[0margs\u001b[0m\u001b[0;34m,\u001b[0m\u001b[0;34m\u001b[0m\u001b[0;34m\u001b[0m\u001b[0m\n",
      "\u001b[0;32m/Applications/anaconda3/lib/python3.7/site-packages/tensorflow_core/python/eager/function.py\u001b[0m in \u001b[0;36mcall\u001b[0;34m(self, ctx, args, cancellation_manager)\u001b[0m\n\u001b[1;32m    543\u001b[0m               \u001b[0minputs\u001b[0m\u001b[0;34m=\u001b[0m\u001b[0margs\u001b[0m\u001b[0;34m,\u001b[0m\u001b[0;34m\u001b[0m\u001b[0;34m\u001b[0m\u001b[0m\n\u001b[1;32m    544\u001b[0m               \u001b[0mattrs\u001b[0m\u001b[0;34m=\u001b[0m\u001b[0;34m(\u001b[0m\u001b[0;34m\"executor_type\"\u001b[0m\u001b[0;34m,\u001b[0m \u001b[0mexecutor_type\u001b[0m\u001b[0;34m,\u001b[0m \u001b[0;34m\"config_proto\"\u001b[0m\u001b[0;34m,\u001b[0m \u001b[0mconfig\u001b[0m\u001b[0;34m)\u001b[0m\u001b[0;34m,\u001b[0m\u001b[0;34m\u001b[0m\u001b[0;34m\u001b[0m\u001b[0m\n\u001b[0;32m--> 545\u001b[0;31m               ctx=ctx)\n\u001b[0m\u001b[1;32m    546\u001b[0m         \u001b[0;32melse\u001b[0m\u001b[0;34m:\u001b[0m\u001b[0;34m\u001b[0m\u001b[0;34m\u001b[0m\u001b[0m\n\u001b[1;32m    547\u001b[0m           outputs = execute.execute_with_cancellation(\n",
      "\u001b[0;32m/Applications/anaconda3/lib/python3.7/site-packages/tensorflow_core/python/eager/execute.py\u001b[0m in \u001b[0;36mquick_execute\u001b[0;34m(op_name, num_outputs, inputs, attrs, ctx, name)\u001b[0m\n\u001b[1;32m     59\u001b[0m     tensors = pywrap_tensorflow.TFE_Py_Execute(ctx._handle, device_name,\n\u001b[1;32m     60\u001b[0m                                                \u001b[0mop_name\u001b[0m\u001b[0;34m,\u001b[0m \u001b[0minputs\u001b[0m\u001b[0;34m,\u001b[0m \u001b[0mattrs\u001b[0m\u001b[0;34m,\u001b[0m\u001b[0;34m\u001b[0m\u001b[0;34m\u001b[0m\u001b[0m\n\u001b[0;32m---> 61\u001b[0;31m                                                num_outputs)\n\u001b[0m\u001b[1;32m     62\u001b[0m   \u001b[0;32mexcept\u001b[0m \u001b[0mcore\u001b[0m\u001b[0;34m.\u001b[0m\u001b[0m_NotOkStatusException\u001b[0m \u001b[0;32mas\u001b[0m \u001b[0me\u001b[0m\u001b[0;34m:\u001b[0m\u001b[0;34m\u001b[0m\u001b[0;34m\u001b[0m\u001b[0m\n\u001b[1;32m     63\u001b[0m     \u001b[0;32mif\u001b[0m \u001b[0mname\u001b[0m \u001b[0;32mis\u001b[0m \u001b[0;32mnot\u001b[0m \u001b[0;32mNone\u001b[0m\u001b[0;34m:\u001b[0m\u001b[0;34m\u001b[0m\u001b[0;34m\u001b[0m\u001b[0m\n",
      "\u001b[0;31mKeyboardInterrupt\u001b[0m: "
     ]
    }
   ],
   "source": [
    "model3.fit([seq1_pad,seq2_pad],y_train.values.reshape(-1,1), epochs = 50, batch_size = 500,\n",
    "          validation_data=([seq1_pad_val,seq2_pad_val],y_val.values.reshape(-1,1)))"
   ]
  },
  {
   "cell_type": "code",
   "execution_count": null,
   "metadata": {},
   "outputs": [],
   "source": []
  }
 ],
 "metadata": {
  "kernelspec": {
   "display_name": "Python 3",
   "language": "python",
   "name": "python3"
  },
  "language_info": {
   "codemirror_mode": {
    "name": "ipython",
    "version": 3
   },
   "file_extension": ".py",
   "mimetype": "text/x-python",
   "name": "python",
   "nbconvert_exporter": "python",
   "pygments_lexer": "ipython3",
   "version": "3.7.4"
  }
 },
 "nbformat": 4,
 "nbformat_minor": 2
}
