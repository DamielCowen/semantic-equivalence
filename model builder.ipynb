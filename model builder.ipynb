{
 "cells": [
  {
   "cell_type": "code",
   "execution_count": 38,
   "metadata": {},
   "outputs": [],
   "source": [
    "import pandas as pd\n",
    "import numpy as np\n",
    "\n",
    "from pipeline import vector_comparison\n",
    "\n",
    "import matplotlib.pyplot as plt\n",
    "from sklearn.metrics import roc_auc_score, roc_curve, jaccard_score\n",
    "from sklearn.model_selection import GridSearchCV\n",
    "\n",
    "%matplotlib inline\n",
    "plt.style.use('fivethirtyeight')"
   ]
  },
  {
   "cell_type": "code",
   "execution_count": 2,
   "metadata": {},
   "outputs": [],
   "source": [
    "df = pd.read_csv('data/training.csv', index_col = 0)\n",
    "df = df.iloc[:10000] #need to limit rows while running on local machine.\n",
    "\n",
    "\n",
    "testing = pd.read_csv('data/testing.csv', index_col = 0)\n"
   ]
  },
  {
   "cell_type": "code",
   "execution_count": 3,
   "metadata": {},
   "outputs": [
    {
     "name": "stdout",
     "output_type": "stream",
     "text": [
      "94   140\n",
      "842   1424\n"
     ]
    },
    {
     "data": {
      "text/plain": [
       "' TP:94, FP: 140, FN:842, TN: 1424 TPR: 0.10042735042735043, FPR: 0.9104859335038363, Accuracy: 0.6072, Precison: 0.4017094017094017'"
      ]
     },
     "execution_count": 3,
     "metadata": {},
     "output_type": "execute_result"
    }
   ],
   "source": [
    "#standard model flow.\n",
    "#obstatiate model object\n",
    "model1 = vector_comparison(df)\n",
    "\n",
    "#split the data into train and test portions\n",
    "train, test = model1.split_data(['question1','question2'],'is_duplicate')\n",
    "\n",
    "#fit all the training data to td-idf, default settings for this model\n",
    "model1.fit_tfidf()\n",
    "\n",
    "#transform test questions into two vectors\n",
    "q1 = model1.transform_tfidf(test['question1'])\n",
    "q2 = model1.transform_tfidf(test['question2'])\n",
    "\n",
    "#calculates the cosine similarity results\n",
    "results = model1.compute_cosine_similarity(q1,q2)\n",
    "\n",
    "#appends y_pred to df for validation\n",
    "model1.return_df_w_results(results)\n",
    "\n",
    "#calculates model preformance statistics\n",
    "model1.compute_confusion_matrix()\n",
    "thresh, TPR1, FPR1 = model1.draw_roc()\n",
    "\n",
    "model1.model_report()"
   ]
  },
  {
   "cell_type": "code",
   "execution_count": 7,
   "metadata": {},
   "outputs": [],
   "source": []
  },
  {
   "cell_type": "code",
   "execution_count": 8,
   "metadata": {},
   "outputs": [
    {
     "name": "stdout",
     "output_type": "stream",
     "text": [
      "94   140\n",
      "842   1424\n"
     ]
    },
    {
     "data": {
      "text/plain": [
       "' TP:94, FP: 140, FN:842, TN: 1424 TPR: 0.10042735042735043, FPR: 0.9104859335038363, Accuracy: 0.6072, Precison: 0.4017094017094017'"
      ]
     },
     "execution_count": 8,
     "metadata": {},
     "output_type": "execute_result"
    }
   ],
   "source": [
    "#standard flow\n",
    "model2 = vector_comparison(df)\n",
    "\n",
    "train, test = model2.split_data(['question1','question2'],'is_duplicate')\n",
    "model2.fit_tfidf(stopwords = 'english')\n",
    "q1_model2 = model2.transform_tfidf(test['question1'])\n",
    "q2_model2 = model2.transform_tfidf(test['question2'])\n",
    "results_2 = model2.compute_cosine_similarity(q1_model2,q2_model2)\n",
    "model2.return_df_w_results(results_2)\n",
    "model2.compute_confusion_matrix()\n",
    "thresh, TPR2, FPR2 = model2.draw_roc()\n",
    "model2.model_report()"
   ]
  },
  {
   "cell_type": "code",
   "execution_count": 9,
   "metadata": {},
   "outputs": [
    {
     "name": "stdout",
     "output_type": "stream",
     "text": [
      "183   195\n",
      "753   1369\n"
     ]
    },
    {
     "data": {
      "text/plain": [
       "' TP:183, FP: 195, FN:753, TN: 1369 TPR: 0.1955128205128205, FPR: 0.8753196930946292, Accuracy: 0.6208, Precison: 0.48412698412698413'"
      ]
     },
     "execution_count": 9,
     "metadata": {},
     "output_type": "execute_result"
    }
   ],
   "source": [
    "#standard flow\n",
    "model3 = vector_comparison(df)\n",
    "\n",
    "train, test = model3.split_data(['question1','question2'],'is_duplicate')\n",
    "model3.fit_tfidf(ngram_range=(1,2))\n",
    "q1_model3 = model3.transform_tfidf(test['question1'])\n",
    "q2_model3 = model3.transform_tfidf(test['question2'])\n",
    "results_3 = model3.compute_cosine_similarity(q1_model3,q2_model3)\n",
    "model3.return_df_w_results(results_3)\n",
    "model3.compute_confusion_matrix()\n",
    "thresh, TPR3, FPR3 = model3.draw_roc()\n",
    "model3.model_report()"
   ]
  },
  {
   "cell_type": "code",
   "execution_count": 10,
   "metadata": {},
   "outputs": [
    {
     "name": "stdout",
     "output_type": "stream",
     "text": [
      "193   201\n",
      "743   1363\n"
     ]
    },
    {
     "data": {
      "text/plain": [
       "' TP:193, FP: 201, FN:743, TN: 1363 TPR: 0.20619658119658119, FPR: 0.8714833759590793, Accuracy: 0.6224, Precison: 0.48984771573604063'"
      ]
     },
     "execution_count": 10,
     "metadata": {},
     "output_type": "execute_result"
    }
   ],
   "source": [
    "model4 = vector_comparison(df)\n",
    "\n",
    "train, test = model4.split_data(['question1','question2'],'is_duplicate')\n",
    "model4.fit_tfidf(ngram_range=(1,2), max_df = 0.5)\n",
    "q1_model4 = model4.transform_tfidf(test['question1'])\n",
    "q2_model4 = model4.transform_tfidf(test['question2'])\n",
    "results_4 = model4.compute_cosine_similarity(q1_model4,q2_model4)\n",
    "model4.return_df_w_results(results_4)\n",
    "model4.compute_confusion_matrix()\n",
    "thresh, TPR4, FPR4 = model4.draw_roc()\n",
    "model4.model_report()"
   ]
  },
  {
   "cell_type": "code",
   "execution_count": 11,
   "metadata": {},
   "outputs": [
    {
     "name": "stdout",
     "output_type": "stream",
     "text": [
      "409   347\n",
      "527   1217\n"
     ]
    },
    {
     "data": {
      "text/plain": [
       "' TP:409, FP: 347, FN:527, TN: 1217 TPR: 0.43696581196581197, FPR: 0.7781329923273658, Accuracy: 0.6504, Precison: 0.541005291005291'"
      ]
     },
     "execution_count": 11,
     "metadata": {},
     "output_type": "execute_result"
    }
   ],
   "source": [
    "model5 = vector_comparison(df)\n",
    "\n",
    "train, test = model5.split_data(['question1','question2'],'is_duplicate')\n",
    "model5.fit_tfidf(stopwords = 'english', ngram_range=(1,2), max_df = 0.5, min_df = 2, max_features = 8000)\n",
    "q1_model5 = model5.transform_tfidf(test['question1'])\n",
    "q2_model5 = model5.transform_tfidf(test['question2'])\n",
    "results_5 = model5.compute_cosine_similarity(q1_model5,q2_model5)\n",
    "model5.return_df_w_results(results_5)\n",
    "model5.compute_confusion_matrix()\n",
    "thresh, TPR5, FPR5 = model5.draw_roc()\n",
    "model5.model_report()"
   ]
  },
  {
   "cell_type": "code",
   "execution_count": null,
   "metadata": {},
   "outputs": [],
   "source": []
  },
  {
   "cell_type": "code",
   "execution_count": 12,
   "metadata": {},
   "outputs": [
    {
     "name": "stdout",
     "output_type": "stream",
     "text": [
      "552   423\n",
      "384   1141\n"
     ]
    },
    {
     "data": {
      "text/plain": [
       "' TP:552, FP: 423, FN:384, TN: 1141 TPR: 0.5897435897435898, FPR: 0.729539641943734, Accuracy: 0.6772, Precison: 0.5661538461538461'"
      ]
     },
     "execution_count": 12,
     "metadata": {},
     "output_type": "execute_result"
    }
   ],
   "source": [
    "#model 5 prime with PCA aka model6\n",
    "model6 =vector_comparison(df)\n",
    "\n",
    "#standard flow\n",
    "train, test = model6.split_data(['question1','question2'],'is_duplicate')\n",
    "model6.fit_tfidf(stopwords = 'english', ngram_range=(1,2), max_df = 0.5, min_df = 2, max_features = 8000)\n",
    "q1_model6 = model6.transform_tfidf(test['question1'])\n",
    "q2_model6 = model6.transform_tfidf(test['question2'])\n",
    "\n",
    "#add pca to the mix\n",
    "model6.fit_pca(1000)\n",
    "q1_model6 = model6.transform_pca(q1_model6)\n",
    "q2_model6= model6.transform_pca(q2_model6)\n",
    "\n",
    "#standard flow\n",
    "results_6 = model6.compute_cosine_similarity(q1_model6,q2_model6)\n",
    "model6.return_df_w_results(results_6)\n",
    "model6.compute_confusion_matrix()\n",
    "thresh, TPR6, FPR6 = model6.draw_roc()\n",
    "model6.model_report()"
   ]
  },
  {
   "cell_type": "code",
   "execution_count": 13,
   "metadata": {},
   "outputs": [],
   "source": [
    "#validate best model with testing data\n",
    "\n",
    "\n",
    "model6.df = testing #change the data frame to the testing data.\n",
    "train, test = model6.split_data(['question1','question2'],'is_duplicate', test = True)\n",
    "q1_model6 = model6.transform_tfidf(model6.df['question1'])\n",
    "q2_model6 = model6.transform_tfidf(model6.df['question2'])\n",
    "model6.compute_confusion_matrix()\n",
    "thresh, TPR6v, FPR6v = model6.draw_roc()\n"
   ]
  },
  {
   "cell_type": "code",
   "execution_count": 14,
   "metadata": {},
   "outputs": [
    {
     "name": "stdout",
     "output_type": "stream",
     "text": [
      "523   429\n",
      "413   1135\n"
     ]
    },
    {
     "data": {
      "text/plain": [
       "' TP:523, FP: 429, FN:413, TN: 1135 TPR: 0.5587606837606838, FPR: 0.7257033248081841, Accuracy: 0.6632, Precison: 0.5493697478991597'"
      ]
     },
     "execution_count": 14,
     "metadata": {},
     "output_type": "execute_result"
    }
   ],
   "source": [
    "#model7 is model5 with countvectorization instead of tfidf vectorization \n",
    "\n",
    "\n",
    "model7 =vector_comparison(df)\n",
    "\n",
    "#standard flow\n",
    "train, test = model7.split_data(['question1','question2'],'is_duplicate')\n",
    "\n",
    "#swap count vectorization for tfidf vectorization\n",
    "model7.fit_count(stopwords = 'english', ngram_range=(1,2), max_df = 0.5, min_df = 2, max_features = 8000)\n",
    "q1_model7 = model7.transform_count(test['question1'])\n",
    "q2_model7 = model7.transform_count(test['question2'])\n",
    "\n",
    "#add pca to the mix\n",
    "model7.fit_pca(1000)\n",
    "q1_model7 = model7.transform_pca(q1_model7)\n",
    "q2_model7 = model7.transform_pca(q2_model7)\n",
    "\n",
    "#standard flow\n",
    "results_7 = model7.compute_cosine_similarity(q1_model7,q2_model7)\n",
    "model7.return_df_w_results(results_7)\n",
    "model7.compute_confusion_matrix()\n",
    "thresh, TPR7, FPR7 = model7.draw_roc()\n",
    "model7.model_report()\n"
   ]
  },
  {
   "cell_type": "code",
   "execution_count": 28,
   "metadata": {},
   "outputs": [
    {
     "name": "stdout",
     "output_type": "stream",
     "text": [
      "513   416\n",
      "423   1148\n"
     ]
    },
    {
     "data": {
      "text/plain": [
       "' TP:513, FP: 416, FN:423, TN: 1148 TPR: 0.5480769230769231, FPR: 0.7340153452685422, Accuracy: 0.6644, Precison: 0.5522066738428417'"
      ]
     },
     "execution_count": 28,
     "metadata": {},
     "output_type": "execute_result"
    }
   ],
   "source": [
    "#model8 is model5 with count vectorization instead of TFIDF and jaccard distance instead of cosine simmilarity.\n",
    "\n",
    "model8 =vector_comparison(df)\n",
    "\n",
    "#standard flow\n",
    "train, test = model8.split_data(['question1','question2'],'is_duplicate')\n",
    "\n",
    "#swap count vectorization for tfidf vectorization\n",
    "model8.fit_count(stopwords = 'english', ngram_range=(1,2), max_df = 0.5, min_df = 2, max_features = 8000)\n",
    "q1_model8 = model8.transform_count(test['question1'])\n",
    "q2_model8 = model8.transform_count(test['question2'])\n",
    "\n",
    "#swap jaccard similarity for cosine similarity\n",
    "results_8 = model8.compute_jaccard_similarity(q1_model8,q2_model8, average = 'macro')\n",
    "\n",
    "#standard flow\n",
    "model8.return_df_w_results(results_8)\n",
    "model8.compute_confusion_matrix()\n",
    "thresh, TPR8, FPR8 = model8.draw_roc()\n",
    "model8.model_report()\n"
   ]
  },
  {
   "cell_type": "code",
   "execution_count": 39,
   "metadata": {},
   "outputs": [],
   "source": [
    "#grid search\n",
    "\n",
    "parameters = {'ngram_range' : [(1,1), (1,2),(1,3), (1,4)], 'max_df' : [0.2, 0.4, 0.6, 0.8, 1],\n",
    "              'min_df' : (1,2,3,4,5), 'max_features' : list(range(0,10000,2000))}\n",
    "\n",
    "\n",
    "clf = GridSearchCV(model1, parameters)\n"
   ]
  },
  {
   "cell_type": "code",
   "execution_count": 42,
   "metadata": {},
   "outputs": [
    {
     "data": {
      "text/plain": [
       "sklearn.model_selection._search.GridSearchCV"
      ]
     },
     "execution_count": 42,
     "metadata": {},
     "output_type": "execute_result"
    }
   ],
   "source": [
    "#figure out grid search."
   ]
  },
  {
   "cell_type": "code",
   "execution_count": 33,
   "metadata": {},
   "outputs": [
    {
     "data": {
      "text/html": [
       "<div>\n",
       "<style scoped>\n",
       "    .dataframe tbody tr th:only-of-type {\n",
       "        vertical-align: middle;\n",
       "    }\n",
       "\n",
       "    .dataframe tbody tr th {\n",
       "        vertical-align: top;\n",
       "    }\n",
       "\n",
       "    .dataframe thead th {\n",
       "        text-align: right;\n",
       "    }\n",
       "</style>\n",
       "<table border=\"1\" class=\"dataframe\">\n",
       "  <thead>\n",
       "    <tr style=\"text-align: right;\">\n",
       "      <th></th>\n",
       "      <th>question1</th>\n",
       "      <th>question2</th>\n",
       "      <th>is_duplicate</th>\n",
       "      <th>results</th>\n",
       "    </tr>\n",
       "    <tr>\n",
       "      <th>id</th>\n",
       "      <th></th>\n",
       "      <th></th>\n",
       "      <th></th>\n",
       "      <th></th>\n",
       "    </tr>\n",
       "  </thead>\n",
       "  <tbody>\n",
       "    <tr>\n",
       "      <td>667</td>\n",
       "      <td>What is fermentation? What are some products o...</td>\n",
       "      <td>What are some fermented products?</td>\n",
       "      <td>0</td>\n",
       "      <td>1.000000</td>\n",
       "    </tr>\n",
       "    <tr>\n",
       "      <td>56745</td>\n",
       "      <td>What is it like to be newly wed?</td>\n",
       "      <td>What do newly weds do on their honeymoon?</td>\n",
       "      <td>0</td>\n",
       "      <td>0.889139</td>\n",
       "    </tr>\n",
       "    <tr>\n",
       "      <td>88223</td>\n",
       "      <td>What are some of the best IAS coaching institu...</td>\n",
       "      <td>What are some of the best IAS coaching institu...</td>\n",
       "      <td>0</td>\n",
       "      <td>0.850788</td>\n",
       "    </tr>\n",
       "    <tr>\n",
       "      <td>81125</td>\n",
       "      <td>How can you stay motivated through whatever?</td>\n",
       "      <td>How do I stay motivated and achieve my goals w...</td>\n",
       "      <td>0</td>\n",
       "      <td>0.703388</td>\n",
       "    </tr>\n",
       "    <tr>\n",
       "      <td>218129</td>\n",
       "      <td>Which Scandinavian country is the best to stud...</td>\n",
       "      <td>How common is it for people to ask you \"descri...</td>\n",
       "      <td>0</td>\n",
       "      <td>0.000000</td>\n",
       "    </tr>\n",
       "  </tbody>\n",
       "</table>\n",
       "</div>"
      ],
      "text/plain": [
       "                                                question1  \\\n",
       "id                                                          \n",
       "667     What is fermentation? What are some products o...   \n",
       "56745                    What is it like to be newly wed?   \n",
       "88223   What are some of the best IAS coaching institu...   \n",
       "81125        How can you stay motivated through whatever?   \n",
       "218129  Which Scandinavian country is the best to stud...   \n",
       "\n",
       "                                                question2  is_duplicate  \\\n",
       "id                                                                        \n",
       "667                     What are some fermented products?             0   \n",
       "56745           What do newly weds do on their honeymoon?             0   \n",
       "88223   What are some of the best IAS coaching institu...             0   \n",
       "81125   How do I stay motivated and achieve my goals w...             0   \n",
       "218129  How common is it for people to ask you \"descri...             0   \n",
       "\n",
       "         results  \n",
       "id                \n",
       "667     1.000000  \n",
       "56745   0.889139  \n",
       "88223   0.850788  \n",
       "81125   0.703388  \n",
       "218129  0.000000  "
      ]
     },
     "execution_count": 33,
     "metadata": {},
     "output_type": "execute_result"
    }
   ],
   "source": [
    "model5.final.head()"
   ]
  },
  {
   "cell_type": "code",
   "execution_count": 17,
   "metadata": {},
   "outputs": [
    {
     "data": {
      "text/html": [
       "<div>\n",
       "<style scoped>\n",
       "    .dataframe tbody tr th:only-of-type {\n",
       "        vertical-align: middle;\n",
       "    }\n",
       "\n",
       "    .dataframe tbody tr th {\n",
       "        vertical-align: top;\n",
       "    }\n",
       "\n",
       "    .dataframe thead th {\n",
       "        text-align: right;\n",
       "    }\n",
       "</style>\n",
       "<table border=\"1\" class=\"dataframe\">\n",
       "  <thead>\n",
       "    <tr style=\"text-align: right;\">\n",
       "      <th></th>\n",
       "      <th>question1</th>\n",
       "      <th>question2</th>\n",
       "      <th>is_duplicate</th>\n",
       "      <th>results</th>\n",
       "    </tr>\n",
       "    <tr>\n",
       "      <th>id</th>\n",
       "      <th></th>\n",
       "      <th></th>\n",
       "      <th></th>\n",
       "      <th></th>\n",
       "    </tr>\n",
       "  </thead>\n",
       "  <tbody>\n",
       "    <tr>\n",
       "      <td>667</td>\n",
       "      <td>What is fermentation? What are some products o...</td>\n",
       "      <td>What are some fermented products?</td>\n",
       "      <td>0</td>\n",
       "      <td>1.000000</td>\n",
       "    </tr>\n",
       "    <tr>\n",
       "      <td>56745</td>\n",
       "      <td>What is it like to be newly wed?</td>\n",
       "      <td>What do newly weds do on their honeymoon?</td>\n",
       "      <td>0</td>\n",
       "      <td>0.999750</td>\n",
       "    </tr>\n",
       "    <tr>\n",
       "      <td>88223</td>\n",
       "      <td>What are some of the best IAS coaching institu...</td>\n",
       "      <td>What are some of the best IAS coaching institu...</td>\n",
       "      <td>0</td>\n",
       "      <td>0.999500</td>\n",
       "    </tr>\n",
       "    <tr>\n",
       "      <td>81125</td>\n",
       "      <td>How can you stay motivated through whatever?</td>\n",
       "      <td>How do I stay motivated and achieve my goals w...</td>\n",
       "      <td>0</td>\n",
       "      <td>0.999500</td>\n",
       "    </tr>\n",
       "    <tr>\n",
       "      <td>218129</td>\n",
       "      <td>Which Scandinavian country is the best to stud...</td>\n",
       "      <td>How common is it for people to ask you \"descri...</td>\n",
       "      <td>0</td>\n",
       "      <td>0.995012</td>\n",
       "    </tr>\n",
       "  </tbody>\n",
       "</table>\n",
       "</div>"
      ],
      "text/plain": [
       "                                                question1  \\\n",
       "id                                                          \n",
       "667     What is fermentation? What are some products o...   \n",
       "56745                    What is it like to be newly wed?   \n",
       "88223   What are some of the best IAS coaching institu...   \n",
       "81125        How can you stay motivated through whatever?   \n",
       "218129  Which Scandinavian country is the best to stud...   \n",
       "\n",
       "                                                question2  is_duplicate  \\\n",
       "id                                                                        \n",
       "667                     What are some fermented products?             0   \n",
       "56745           What do newly weds do on their honeymoon?             0   \n",
       "88223   What are some of the best IAS coaching institu...             0   \n",
       "81125   How do I stay motivated and achieve my goals w...             0   \n",
       "218129  How common is it for people to ask you \"descri...             0   \n",
       "\n",
       "         results  \n",
       "id                \n",
       "667     1.000000  \n",
       "56745   0.999750  \n",
       "88223   0.999500  \n",
       "81125   0.999500  \n",
       "218129  0.995012  "
      ]
     },
     "execution_count": 17,
     "metadata": {},
     "output_type": "execute_result"
    }
   ],
   "source": [
    "model8.final.head()"
   ]
  },
  {
   "cell_type": "code",
   "execution_count": 32,
   "metadata": {
    "scrolled": true
   },
   "outputs": [
    {
     "data": {
      "text/plain": [
       "Text(0.5, 1.0, 'Model Performance')"
      ]
     },
     "execution_count": 32,
     "metadata": {},
     "output_type": "execute_result"
    },
    {
     "data": {
      "image/png": "[encoded data removed]",
      "text/plain": [
       "<Figure size 576x576 with 1 Axes>"
      ]
     },
     "metadata": {
      "needs_background": "light"
     },
     "output_type": "display_data"
    }
   ],
   "source": [
    "fig, ax = plt.subplots(figsize=(8,8))\n",
    "\n",
    "ax.plot([0,1], label = 'Random', linestyle='dashed', linewidth = 1)\n",
    "ax.plot(FPR2,TPR2, label = f'TFIDF sans stopwords. AUC: {model2.roc_auc_score}',linewidth=2)\n",
    "ax.plot(FPR1,TPR1, label = f'As above w/ stopwords. AUC: {model1.roc_auc_score}',linewidth=2)\n",
    "ax.plot(FPR3,TPR3, label = f'As above w/ 2-grams. AUC: {model3.roc_auc_score}',linewidth=2)\n",
    "ax.plot(FPR4,TPR4, label = f'As above w/ max_df = 0.5. AUC: {model4.roc_auc_score}',linewidth=2)\n",
    "ax.plot(FPR5,TPR5, label = f'As above w/ max_features = 8000. AUC: {model5.roc_auc_score}',linewidth=2)\n",
    "ax.plot(FPR6,TPR6, label = f'BEST As above w/ PCA 1000. AUC: 0.7252',linewidth=5)\n",
    "\n",
    "ax.plot(FPR6v,TPR6v, label = f'BEST Validation. AUC: {model6.roc_auc_score}',linewidth=2)\n",
    "ax.plot(FPR7,TPR7, label = f'As best w/ Count instead of TFIDF. AUC: {model7.roc_auc_score}',linewidth=2)\n",
    "ax.plot(FPR8,TPR8, label = f'As above w/ Jaccard. AUC: {model8.roc_auc_score}',linewidth=2)\n",
    "\n",
    "plt.xlabel('TPR')\n",
    "plt.ylabel('FPR')\n",
    "\n",
    "plt.legend(loc=\"lower right\")\n",
    "plt.title(\"Model Performance\")\n",
    "\n",
    "#plt.savefig('ModelPreformance.png')"
   ]
  },
  {
   "cell_type": "code",
   "execution_count": 19,
   "metadata": {},
   "outputs": [],
   "source": [
    "\n",
    "\n",
    "model6.final.to_csv('data/model6.csv')"
   ]
  },
  {
   "cell_type": "code",
   "execution_count": 20,
   "metadata": {},
   "outputs": [
    {
     "data": {
      "text/plain": [
       "'Is there any real proof of ghosts?'"
      ]
     },
     "execution_count": 20,
     "metadata": {},
     "output_type": "execute_result"
    }
   ],
   "source": [
    "model6.final.loc[125261][0]"
   ]
  },
  {
   "cell_type": "code",
   "execution_count": 21,
   "metadata": {},
   "outputs": [
    {
     "data": {
      "text/plain": [
       "'Is there any proof that ghosts are real?'"
      ]
     },
     "execution_count": 21,
     "metadata": {},
     "output_type": "execute_result"
    }
   ],
   "source": [
    "model6.final.loc[125261][1]"
   ]
  },
  {
   "cell_type": "code",
   "execution_count": 22,
   "metadata": {},
   "outputs": [
    {
     "data": {
      "text/plain": [
       "question1             Is there any real proof of ghosts?\n",
       "question2       Is there any proof that ghosts are real?\n",
       "is_duplicate                                           1\n",
       "results                                                1\n",
       "Name: 125261, dtype: object"
      ]
     },
     "execution_count": 22,
     "metadata": {},
     "output_type": "execute_result"
    }
   ],
   "source": [
    "model6.final.loc[125261]"
   ]
  },
  {
   "cell_type": "code",
   "execution_count": null,
   "metadata": {},
   "outputs": [],
   "source": []
  }
 ],
 "metadata": {
  "kernelspec": {
   "display_name": "Python 3",
   "language": "python",
   "name": "python3"
  },
  "language_info": {
   "codemirror_mode": {
    "name": "ipython",
    "version": 3
   },
   "file_extension": ".py",
   "mimetype": "text/x-python",
   "name": "python",
   "nbconvert_exporter": "python",
   "pygments_lexer": "ipython3",
   "version": "3.7.4"
  }
 },
 "nbformat": 4,
 "nbformat_minor": 2
}
